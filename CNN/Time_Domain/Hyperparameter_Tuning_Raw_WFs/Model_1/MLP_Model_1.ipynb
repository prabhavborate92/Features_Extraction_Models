{
  "nbformat": 4,
  "nbformat_minor": 0,
  "metadata": {
    "colab": {
      "provenance": []
    },
    "kernelspec": {
      "name": "python3",
      "display_name": "Python 3"
    },
    "language_info": {
      "name": "python"
    }
  },
  "cells": [
    {
      "cell_type": "code",
      "execution_count": null,
      "metadata": {
        "id": "rRL5qf-4m81B"
      },
      "outputs": [],
      "source": [
        "# Load Libraries\n",
        "import pandas as pd\n",
        "import numpy as np\n",
        "from scipy.io import loadmat\n",
        "import matplotlib.pyplot as plt\n",
        "import time\n",
        "import tensorflow as tf\n",
        "# tf.compat.v1.disable_eager_execution()\n",
        "from tensorflow import keras\n",
        "from tensorflow.keras import layers\n",
        "from tensorflow.keras.layers import Dense\n",
        "from tensorflow.keras import optimizers\n",
        "from sklearn.metrics import mean_squared_error\n",
        "from tensorflow.python.keras.layers import Lambda\n",
        "from sklearn.model_selection import train_test_split\n",
        "from sklearn.metrics import r2_score, mean_squared_error\n",
        "from keras.models import Sequential, Model\n",
        "from tensorflow.keras.optimizers import RMSprop, Adam\n",
        "from keras.layers import Dense, LSTM, TimeDistributed, Flatten, Bidirectional, Input\n",
        "from sklearn.preprocessing import MinMaxScaler\n",
        "import h5py\n",
        "import math\n",
        "from keras.callbacks import EarlyStopping\n",
        "from keras.callbacks import ModelCheckpoint\n",
        "from google.colab import files\n",
        "from numpy import savetxt"
      ]
    },
    {
      "cell_type": "code",
      "source": [
        "# Seed\n",
        "np.random.seed(0)\n",
        "tf.random.set_seed(0)"
      ],
      "metadata": {
        "id": "2idbA8_hzTlo"
      },
      "execution_count": null,
      "outputs": []
    },
    {
      "cell_type": "code",
      "source": [
        "# Mount Google Drive\n",
        "from google.colab import drive\n",
        "drive.mount('/content/drive')"
      ],
      "metadata": {
        "colab": {
          "base_uri": "https://localhost:8080/"
        },
        "id": "3XftFgecnA15",
        "outputId": "1870f8ce-ed0f-40ae-d4c2-fdea5f60c785"
      },
      "execution_count": null,
      "outputs": [
        {
          "output_type": "stream",
          "name": "stdout",
          "text": [
            "Mounted at /content/drive\n"
          ]
        }
      ]
    },
    {
      "cell_type": "code",
      "source": [
        "# Function: Create Data History\n",
        "def create_timesteps(data, n_steps):\n",
        "\tx = []\n",
        "\ty = []\n",
        "\tfor i in range(len(data)-1):\n",
        "\t\tend_ix = i + n_steps\n",
        "\t\tif end_ix > len(data)-1:\n",
        "\t\t\tbreak\n",
        "\t\tx1, y1 = data[i:end_ix, :-1], data[end_ix, -1]\n",
        "\t\tx.append(x1)\n",
        "\t\ty.append(y1)\n",
        "\treturn np.array(x), np.array(y)"
      ],
      "metadata": {
        "id": "HANR6CA0nCqh"
      },
      "execution_count": null,
      "outputs": []
    },
    {
      "cell_type": "code",
      "source": [
        "data1 = loadmat('/content/drive/My Drive/Colab Notebooks/Features_Comparison_Model/Reviewer_1_Suggestion_CNN/CNN/Hyperparameter_Tuning/Model_1/Input_Output_Data_Model_1.mat')\n",
        "df = pd.DataFrame({'F1':data1['F1'].flatten(), 'F2':data1['F2'].flatten() ,'F3':data1['F3'].flatten(),'F4':data1['F4'].flatten(),\n",
        "                   'F5':data1['F5'].flatten(), 'SS':data1['SS'].flatten()})\n",
        "df = df[['F1','F2','F3','F4','F5','SS']]"
      ],
      "metadata": {
        "id": "KbiPsMQonKLO"
      },
      "execution_count": null,
      "outputs": []
    },
    {
      "cell_type": "code",
      "source": [
        "# Preprocessing (SS)\n",
        "arr = df.to_numpy()\n",
        "n_steps = 300\n",
        "xdf, ydf_SS = create_timesteps(arr, n_steps)\n",
        "\n",
        "print('Features shape, X = ', np.shape(xdf))\n",
        "print('Target shape (SS), Y = ', np.shape(ydf_SS))\n",
        "\n",
        "# Reshape\n",
        "in_dim = xdf.shape[1]*xdf.shape[2]\n",
        "xdf = xdf.reshape((xdf.shape[0], in_dim))\n",
        "print('After reshaping, X = ', np.shape(xdf))"
      ],
      "metadata": {
        "id": "6UjcYH4gocy7",
        "colab": {
          "base_uri": "https://localhost:8080/"
        },
        "outputId": "dac641be-17f7-45b8-f4df-cf63069579f3"
      },
      "execution_count": null,
      "outputs": [
        {
          "output_type": "stream",
          "name": "stdout",
          "text": [
            "Features shape, X =  (132076, 300, 5)\n",
            "Target shape (SS), Y =  (132076,)\n",
            "After reshaping, X =  (132076, 1500)\n"
          ]
        }
      ]
    },
    {
      "cell_type": "code",
      "source": [
        "# Split into train-val-test (SS)\n",
        "x_train, x_test, y_train_SS, y_test_SS = train_test_split(xdf, ydf_SS, test_size=0.2, shuffle=False)\n",
        "X_train, X_val, Y_train_SS, Y_val_SS = train_test_split(x_train, y_train_SS, test_size=0.125, shuffle=False)\n",
        "\n",
        "# Normalize the input\n",
        "scaler = MinMaxScaler()\n",
        "X_train = pd.DataFrame(scaler.fit_transform(X_train))\n",
        "X_val = pd.DataFrame(scaler.transform(X_val))\n",
        "x_test = pd.DataFrame(scaler.transform(x_test))\n",
        "\n",
        "print(\"Training samples:\", np.shape(X_train))\n",
        "print(\"Validation samples:\", np.shape(X_val))\n",
        "print(\"Testing samples:\", np.shape(x_test))"
      ],
      "metadata": {
        "colab": {
          "base_uri": "https://localhost:8080/"
        },
        "id": "uNlKnl-2rbcz",
        "outputId": "9638b493-5c35-4a2a-daca-9d42e509b8e7"
      },
      "execution_count": null,
      "outputs": [
        {
          "output_type": "stream",
          "name": "stdout",
          "text": [
            "Training samples: (92452, 1500)\n",
            "Validation samples: (13208, 1500)\n",
            "Testing samples: (26416, 1500)\n"
          ]
        }
      ]
    },
    {
      "cell_type": "code",
      "source": [
        "# Normalize the output: SS\n",
        "scaler_ss = MinMaxScaler()\n",
        "Y_train_SS = pd.DataFrame(scaler_ss.fit_transform(Y_train_SS.reshape(-1, 1)))\n",
        "Y_val_SS = pd.DataFrame(scaler_ss.transform(Y_val_SS.reshape(-1, 1)))\n",
        "y_test_SS = pd.DataFrame(scaler_ss.transform(y_test_SS.reshape(-1, 1)))"
      ],
      "metadata": {
        "id": "ugkImJlasM5l"
      },
      "execution_count": null,
      "outputs": []
    },
    {
      "cell_type": "code",
      "source": [
        "# Define DD\n",
        "def MLP_Data():\n",
        "\n",
        "  # Define inputs\n",
        "  X_train = layers.Input(shape=(1500,),name='X_train')\n",
        "\n",
        "  # Prediction: Shear Stress + Slip Rate\n",
        "  x = layers.Dense(512,kernel_initializer = 'normal', activation=\"relu\")(X_train)\n",
        "  x = layers.Dense(128,kernel_initializer = 'normal', activation=\"relu\")(x)\n",
        "  x = layers.Dense(32, kernel_initializer = 'normal', activation=\"relu\")(x)\n",
        "  ss_pred = layers.Dense(1,kernel_initializer = 'normal',activation=\"linear\")(x)\n",
        "\n",
        "  model = keras.Model(inputs=[X_train],outputs=[ss_pred])\n",
        "  return model"
      ],
      "metadata": {
        "id": "c69F1Jpgs7U-"
      },
      "execution_count": null,
      "outputs": []
    },
    {
      "cell_type": "code",
      "source": [
        "# Model Summary\n",
        "model=MLP_Data()\n",
        "model.compile(loss='mse', optimizer=tf.keras.optimizers.Adam(1e-3), metrics=['mse'])\n",
        "model.summary()"
      ],
      "metadata": {
        "colab": {
          "base_uri": "https://localhost:8080/",
          "height": 289
        },
        "id": "fbLEseK-tI9u",
        "outputId": "c74dab19-2f5a-42c1-da20-7db66fa54d2b"
      },
      "execution_count": null,
      "outputs": [
        {
          "output_type": "display_data",
          "data": {
            "text/plain": [
              "\u001b[1mModel: \"functional\"\u001b[0m\n"
            ],
            "text/html": [
              "<pre style=\"white-space:pre;overflow-x:auto;line-height:normal;font-family:Menlo,'DejaVu Sans Mono',consolas,'Courier New',monospace\"><span style=\"font-weight: bold\">Model: \"functional\"</span>\n",
              "</pre>\n"
            ]
          },
          "metadata": {}
        },
        {
          "output_type": "display_data",
          "data": {
            "text/plain": [
              "┏━━━━━━━━━━━━━━━━━━━━━━━━━━━━━━━━━┳━━━━━━━━━━━━━━━━━━━━━━━━┳━━━━━━━━━━━━━━━┓\n",
              "┃\u001b[1m \u001b[0m\u001b[1mLayer (type)                   \u001b[0m\u001b[1m \u001b[0m┃\u001b[1m \u001b[0m\u001b[1mOutput Shape          \u001b[0m\u001b[1m \u001b[0m┃\u001b[1m \u001b[0m\u001b[1m      Param #\u001b[0m\u001b[1m \u001b[0m┃\n",
              "┡━━━━━━━━━━━━━━━━━━━━━━━━━━━━━━━━━╇━━━━━━━━━━━━━━━━━━━━━━━━╇━━━━━━━━━━━━━━━┩\n",
              "│ X_train (\u001b[38;5;33mInputLayer\u001b[0m)            │ (\u001b[38;5;45mNone\u001b[0m, \u001b[38;5;34m1500\u001b[0m)           │             \u001b[38;5;34m0\u001b[0m │\n",
              "├─────────────────────────────────┼────────────────────────┼───────────────┤\n",
              "│ dense (\u001b[38;5;33mDense\u001b[0m)                   │ (\u001b[38;5;45mNone\u001b[0m, \u001b[38;5;34m512\u001b[0m)            │       \u001b[38;5;34m768,512\u001b[0m │\n",
              "├─────────────────────────────────┼────────────────────────┼───────────────┤\n",
              "│ dense_1 (\u001b[38;5;33mDense\u001b[0m)                 │ (\u001b[38;5;45mNone\u001b[0m, \u001b[38;5;34m128\u001b[0m)            │        \u001b[38;5;34m65,664\u001b[0m │\n",
              "├─────────────────────────────────┼────────────────────────┼───────────────┤\n",
              "│ dense_2 (\u001b[38;5;33mDense\u001b[0m)                 │ (\u001b[38;5;45mNone\u001b[0m, \u001b[38;5;34m32\u001b[0m)             │         \u001b[38;5;34m4,128\u001b[0m │\n",
              "├─────────────────────────────────┼────────────────────────┼───────────────┤\n",
              "│ dense_3 (\u001b[38;5;33mDense\u001b[0m)                 │ (\u001b[38;5;45mNone\u001b[0m, \u001b[38;5;34m1\u001b[0m)              │            \u001b[38;5;34m33\u001b[0m │\n",
              "└─────────────────────────────────┴────────────────────────┴───────────────┘\n"
            ],
            "text/html": [
              "<pre style=\"white-space:pre;overflow-x:auto;line-height:normal;font-family:Menlo,'DejaVu Sans Mono',consolas,'Courier New',monospace\">┏━━━━━━━━━━━━━━━━━━━━━━━━━━━━━━━━━┳━━━━━━━━━━━━━━━━━━━━━━━━┳━━━━━━━━━━━━━━━┓\n",
              "┃<span style=\"font-weight: bold\"> Layer (type)                    </span>┃<span style=\"font-weight: bold\"> Output Shape           </span>┃<span style=\"font-weight: bold\">       Param # </span>┃\n",
              "┡━━━━━━━━━━━━━━━━━━━━━━━━━━━━━━━━━╇━━━━━━━━━━━━━━━━━━━━━━━━╇━━━━━━━━━━━━━━━┩\n",
              "│ X_train (<span style=\"color: #0087ff; text-decoration-color: #0087ff\">InputLayer</span>)            │ (<span style=\"color: #00d7ff; text-decoration-color: #00d7ff\">None</span>, <span style=\"color: #00af00; text-decoration-color: #00af00\">1500</span>)           │             <span style=\"color: #00af00; text-decoration-color: #00af00\">0</span> │\n",
              "├─────────────────────────────────┼────────────────────────┼───────────────┤\n",
              "│ dense (<span style=\"color: #0087ff; text-decoration-color: #0087ff\">Dense</span>)                   │ (<span style=\"color: #00d7ff; text-decoration-color: #00d7ff\">None</span>, <span style=\"color: #00af00; text-decoration-color: #00af00\">512</span>)            │       <span style=\"color: #00af00; text-decoration-color: #00af00\">768,512</span> │\n",
              "├─────────────────────────────────┼────────────────────────┼───────────────┤\n",
              "│ dense_1 (<span style=\"color: #0087ff; text-decoration-color: #0087ff\">Dense</span>)                 │ (<span style=\"color: #00d7ff; text-decoration-color: #00d7ff\">None</span>, <span style=\"color: #00af00; text-decoration-color: #00af00\">128</span>)            │        <span style=\"color: #00af00; text-decoration-color: #00af00\">65,664</span> │\n",
              "├─────────────────────────────────┼────────────────────────┼───────────────┤\n",
              "│ dense_2 (<span style=\"color: #0087ff; text-decoration-color: #0087ff\">Dense</span>)                 │ (<span style=\"color: #00d7ff; text-decoration-color: #00d7ff\">None</span>, <span style=\"color: #00af00; text-decoration-color: #00af00\">32</span>)             │         <span style=\"color: #00af00; text-decoration-color: #00af00\">4,128</span> │\n",
              "├─────────────────────────────────┼────────────────────────┼───────────────┤\n",
              "│ dense_3 (<span style=\"color: #0087ff; text-decoration-color: #0087ff\">Dense</span>)                 │ (<span style=\"color: #00d7ff; text-decoration-color: #00d7ff\">None</span>, <span style=\"color: #00af00; text-decoration-color: #00af00\">1</span>)              │            <span style=\"color: #00af00; text-decoration-color: #00af00\">33</span> │\n",
              "└─────────────────────────────────┴────────────────────────┴───────────────┘\n",
              "</pre>\n"
            ]
          },
          "metadata": {}
        },
        {
          "output_type": "display_data",
          "data": {
            "text/plain": [
              "\u001b[1m Total params: \u001b[0m\u001b[38;5;34m838,337\u001b[0m (3.20 MB)\n"
            ],
            "text/html": [
              "<pre style=\"white-space:pre;overflow-x:auto;line-height:normal;font-family:Menlo,'DejaVu Sans Mono',consolas,'Courier New',monospace\"><span style=\"font-weight: bold\"> Total params: </span><span style=\"color: #00af00; text-decoration-color: #00af00\">838,337</span> (3.20 MB)\n",
              "</pre>\n"
            ]
          },
          "metadata": {}
        },
        {
          "output_type": "display_data",
          "data": {
            "text/plain": [
              "\u001b[1m Trainable params: \u001b[0m\u001b[38;5;34m838,337\u001b[0m (3.20 MB)\n"
            ],
            "text/html": [
              "<pre style=\"white-space:pre;overflow-x:auto;line-height:normal;font-family:Menlo,'DejaVu Sans Mono',consolas,'Courier New',monospace\"><span style=\"font-weight: bold\"> Trainable params: </span><span style=\"color: #00af00; text-decoration-color: #00af00\">838,337</span> (3.20 MB)\n",
              "</pre>\n"
            ]
          },
          "metadata": {}
        },
        {
          "output_type": "display_data",
          "data": {
            "text/plain": [
              "\u001b[1m Non-trainable params: \u001b[0m\u001b[38;5;34m0\u001b[0m (0.00 B)\n"
            ],
            "text/html": [
              "<pre style=\"white-space:pre;overflow-x:auto;line-height:normal;font-family:Menlo,'DejaVu Sans Mono',consolas,'Courier New',monospace\"><span style=\"font-weight: bold\"> Non-trainable params: </span><span style=\"color: #00af00; text-decoration-color: #00af00\">0</span> (0.00 B)\n",
              "</pre>\n"
            ]
          },
          "metadata": {}
        }
      ]
    },
    {
      "cell_type": "code",
      "source": [
        "# Train The Model\n",
        "earlystop = EarlyStopping(monitor='val_loss', min_delta=0, patience=20,verbose=1, mode='auto')\n",
        "checkpoint = ModelCheckpoint('/content/drive/My Drive/Colab Notebooks/Entire_Signal/Automatic_Features_Extraction/New_AFE_Models/MLP_Model_With_Extracted_Features/Check1.keras', monitor='val_loss', verbose=1, save_best_only=True, mode='min')\n",
        "callbacks_list = [earlystop, checkpoint]\n",
        "start_time = time.time()\n",
        "history = model.fit([X_train],[Y_train_SS], epochs=100, batch_size=32,callbacks=callbacks_list,\n",
        "                     validation_data=([X_val],[Y_val_SS]), verbose=1)\n",
        "end_time = time.time()\n",
        "plt.plot(history.history['loss'], label='train')\n",
        "plt.plot(history.history['val_loss'], label='val')\n",
        "plt.legend()\n",
        "plt.show()\n",
        "print(\"---Training time: %0.8f seconds ---\" % (end_time - start_time))"
      ],
      "metadata": {
        "colab": {
          "base_uri": "https://localhost:8080/",
          "height": 1000
        },
        "id": "nK6mHtq5tnoN",
        "outputId": "ea11e897-aa2b-4425-9b9d-2ed120c5b338"
      },
      "execution_count": null,
      "outputs": [
        {
          "output_type": "stream",
          "name": "stdout",
          "text": [
            "Epoch 1/100\n",
            "\u001b[1m2887/2890\u001b[0m \u001b[32m━━━━━━━━━━━━━━━━━━━\u001b[0m\u001b[37m━\u001b[0m \u001b[1m0s\u001b[0m 14ms/step - loss: 0.0121 - mse: 0.0121\n",
            "Epoch 1: val_loss improved from inf to 0.01294, saving model to /content/drive/My Drive/Colab Notebooks/Entire_Signal/Automatic_Features_Extraction/New_AFE_Models/MLP_Model_With_Extracted_Features/Check1.keras\n",
            "\u001b[1m2890/2890\u001b[0m \u001b[32m━━━━━━━━━━━━━━━━━━━━\u001b[0m\u001b[37m\u001b[0m \u001b[1m47s\u001b[0m 15ms/step - loss: 0.0121 - mse: 0.0121 - val_loss: 0.0129 - val_mse: 0.0129\n",
            "Epoch 2/100\n",
            "\u001b[1m2887/2890\u001b[0m \u001b[32m━━━━━━━━━━━━━━━━━━━\u001b[0m\u001b[37m━\u001b[0m \u001b[1m0s\u001b[0m 13ms/step - loss: 0.0020 - mse: 0.0020\n",
            "Epoch 2: val_loss did not improve from 0.01294\n",
            "\u001b[1m2890/2890\u001b[0m \u001b[32m━━━━━━━━━━━━━━━━━━━━\u001b[0m\u001b[37m\u001b[0m \u001b[1m76s\u001b[0m 13ms/step - loss: 0.0020 - mse: 0.0020 - val_loss: 0.0132 - val_mse: 0.0132\n",
            "Epoch 3/100\n",
            "\u001b[1m2888/2890\u001b[0m \u001b[32m━━━━━━━━━━━━━━━━━━━\u001b[0m\u001b[37m━\u001b[0m \u001b[1m0s\u001b[0m 13ms/step - loss: 0.0015 - mse: 0.0015\n",
            "Epoch 3: val_loss improved from 0.01294 to 0.01257, saving model to /content/drive/My Drive/Colab Notebooks/Entire_Signal/Automatic_Features_Extraction/New_AFE_Models/MLP_Model_With_Extracted_Features/Check1.keras\n",
            "\u001b[1m2890/2890\u001b[0m \u001b[32m━━━━━━━━━━━━━━━━━━━━\u001b[0m\u001b[37m\u001b[0m \u001b[1m42s\u001b[0m 13ms/step - loss: 0.0015 - mse: 0.0015 - val_loss: 0.0126 - val_mse: 0.0126\n",
            "Epoch 4/100\n",
            "\u001b[1m2890/2890\u001b[0m \u001b[32m━━━━━━━━━━━━━━━━━━━━\u001b[0m\u001b[37m\u001b[0m \u001b[1m0s\u001b[0m 13ms/step - loss: 0.0012 - mse: 0.0012\n",
            "Epoch 4: val_loss did not improve from 0.01257\n",
            "\u001b[1m2890/2890\u001b[0m \u001b[32m━━━━━━━━━━━━━━━━━━━━\u001b[0m\u001b[37m\u001b[0m \u001b[1m39s\u001b[0m 13ms/step - loss: 0.0012 - mse: 0.0012 - val_loss: 0.0128 - val_mse: 0.0128\n",
            "Epoch 5/100\n",
            "\u001b[1m2886/2890\u001b[0m \u001b[32m━━━━━━━━━━━━━━━━━━━\u001b[0m\u001b[37m━\u001b[0m \u001b[1m0s\u001b[0m 12ms/step - loss: 0.0011 - mse: 0.0011\n",
            "Epoch 5: val_loss improved from 0.01257 to 0.01252, saving model to /content/drive/My Drive/Colab Notebooks/Entire_Signal/Automatic_Features_Extraction/New_AFE_Models/MLP_Model_With_Extracted_Features/Check1.keras\n",
            "\u001b[1m2890/2890\u001b[0m \u001b[32m━━━━━━━━━━━━━━━━━━━━\u001b[0m\u001b[37m\u001b[0m \u001b[1m40s\u001b[0m 13ms/step - loss: 0.0011 - mse: 0.0011 - val_loss: 0.0125 - val_mse: 0.0125\n",
            "Epoch 6/100\n",
            "\u001b[1m2889/2890\u001b[0m \u001b[32m━━━━━━━━━━━━━━━━━━━\u001b[0m\u001b[37m━\u001b[0m \u001b[1m0s\u001b[0m 12ms/step - loss: 9.2592e-04 - mse: 9.2592e-04\n",
            "Epoch 6: val_loss improved from 0.01252 to 0.00933, saving model to /content/drive/My Drive/Colab Notebooks/Entire_Signal/Automatic_Features_Extraction/New_AFE_Models/MLP_Model_With_Extracted_Features/Check1.keras\n",
            "\u001b[1m2890/2890\u001b[0m \u001b[32m━━━━━━━━━━━━━━━━━━━━\u001b[0m\u001b[37m\u001b[0m \u001b[1m37s\u001b[0m 13ms/step - loss: 9.2592e-04 - mse: 9.2592e-04 - val_loss: 0.0093 - val_mse: 0.0093\n",
            "Epoch 7/100\n",
            "\u001b[1m2890/2890\u001b[0m \u001b[32m━━━━━━━━━━━━━━━━━━━━\u001b[0m\u001b[37m\u001b[0m \u001b[1m0s\u001b[0m 13ms/step - loss: 8.6191e-04 - mse: 8.6191e-04\n",
            "Epoch 7: val_loss improved from 0.00933 to 0.00734, saving model to /content/drive/My Drive/Colab Notebooks/Entire_Signal/Automatic_Features_Extraction/New_AFE_Models/MLP_Model_With_Extracted_Features/Check1.keras\n",
            "\u001b[1m2890/2890\u001b[0m \u001b[32m━━━━━━━━━━━━━━━━━━━━\u001b[0m\u001b[37m\u001b[0m \u001b[1m38s\u001b[0m 13ms/step - loss: 8.6190e-04 - mse: 8.6190e-04 - val_loss: 0.0073 - val_mse: 0.0073\n",
            "Epoch 8/100\n",
            "\u001b[1m2888/2890\u001b[0m \u001b[32m━━━━━━━━━━━━━━━━━━━\u001b[0m\u001b[37m━\u001b[0m \u001b[1m0s\u001b[0m 12ms/step - loss: 8.0100e-04 - mse: 8.0100e-04\n",
            "Epoch 8: val_loss improved from 0.00734 to 0.00687, saving model to /content/drive/My Drive/Colab Notebooks/Entire_Signal/Automatic_Features_Extraction/New_AFE_Models/MLP_Model_With_Extracted_Features/Check1.keras\n",
            "\u001b[1m2890/2890\u001b[0m \u001b[32m━━━━━━━━━━━━━━━━━━━━\u001b[0m\u001b[37m\u001b[0m \u001b[1m41s\u001b[0m 13ms/step - loss: 8.0100e-04 - mse: 8.0100e-04 - val_loss: 0.0069 - val_mse: 0.0069\n",
            "Epoch 9/100\n",
            "\u001b[1m2888/2890\u001b[0m \u001b[32m━━━━━━━━━━━━━━━━━━━\u001b[0m\u001b[37m━\u001b[0m \u001b[1m0s\u001b[0m 12ms/step - loss: 7.5342e-04 - mse: 7.5342e-04\n",
            "Epoch 9: val_loss did not improve from 0.00687\n",
            "\u001b[1m2890/2890\u001b[0m \u001b[32m━━━━━━━━━━━━━━━━━━━━\u001b[0m\u001b[37m\u001b[0m \u001b[1m40s\u001b[0m 13ms/step - loss: 7.5342e-04 - mse: 7.5342e-04 - val_loss: 0.0087 - val_mse: 0.0087\n",
            "Epoch 10/100\n",
            "\u001b[1m2887/2890\u001b[0m \u001b[32m━━━━━━━━━━━━━━━━━━━\u001b[0m\u001b[37m━\u001b[0m \u001b[1m0s\u001b[0m 12ms/step - loss: 7.4146e-04 - mse: 7.4146e-04\n",
            "Epoch 10: val_loss did not improve from 0.00687\n",
            "\u001b[1m2890/2890\u001b[0m \u001b[32m━━━━━━━━━━━━━━━━━━━━\u001b[0m\u001b[37m\u001b[0m \u001b[1m38s\u001b[0m 13ms/step - loss: 7.4144e-04 - mse: 7.4144e-04 - val_loss: 0.0071 - val_mse: 0.0071\n",
            "Epoch 11/100\n",
            "\u001b[1m2890/2890\u001b[0m \u001b[32m━━━━━━━━━━━━━━━━━━━━\u001b[0m\u001b[37m\u001b[0m \u001b[1m0s\u001b[0m 13ms/step - loss: 6.8905e-04 - mse: 6.8905e-04\n",
            "Epoch 11: val_loss did not improve from 0.00687\n",
            "\u001b[1m2890/2890\u001b[0m \u001b[32m━━━━━━━━━━━━━━━━━━━━\u001b[0m\u001b[37m\u001b[0m \u001b[1m41s\u001b[0m 14ms/step - loss: 6.8904e-04 - mse: 6.8904e-04 - val_loss: 0.0083 - val_mse: 0.0083\n",
            "Epoch 12/100\n",
            "\u001b[1m2888/2890\u001b[0m \u001b[32m━━━━━━━━━━━━━━━━━━━\u001b[0m\u001b[37m━\u001b[0m \u001b[1m0s\u001b[0m 13ms/step - loss: 6.6429e-04 - mse: 6.6429e-04\n",
            "Epoch 12: val_loss did not improve from 0.00687\n",
            "\u001b[1m2890/2890\u001b[0m \u001b[32m━━━━━━━━━━━━━━━━━━━━\u001b[0m\u001b[37m\u001b[0m \u001b[1m80s\u001b[0m 13ms/step - loss: 6.6428e-04 - mse: 6.6428e-04 - val_loss: 0.0076 - val_mse: 0.0076\n",
            "Epoch 13/100\n",
            "\u001b[1m2890/2890\u001b[0m \u001b[32m━━━━━━━━━━━━━━━━━━━━\u001b[0m\u001b[37m\u001b[0m \u001b[1m0s\u001b[0m 13ms/step - loss: 6.3035e-04 - mse: 6.3035e-04\n",
            "Epoch 13: val_loss improved from 0.00687 to 0.00625, saving model to /content/drive/My Drive/Colab Notebooks/Entire_Signal/Automatic_Features_Extraction/New_AFE_Models/MLP_Model_With_Extracted_Features/Check1.keras\n",
            "\u001b[1m2890/2890\u001b[0m \u001b[32m━━━━━━━━━━━━━━━━━━━━\u001b[0m\u001b[37m\u001b[0m \u001b[1m41s\u001b[0m 14ms/step - loss: 6.3035e-04 - mse: 6.3035e-04 - val_loss: 0.0062 - val_mse: 0.0062\n",
            "Epoch 14/100\n",
            "\u001b[1m2888/2890\u001b[0m \u001b[32m━━━━━━━━━━━━━━━━━━━\u001b[0m\u001b[37m━\u001b[0m \u001b[1m0s\u001b[0m 12ms/step - loss: 6.3995e-04 - mse: 6.3995e-04\n",
            "Epoch 14: val_loss did not improve from 0.00625\n",
            "\u001b[1m2890/2890\u001b[0m \u001b[32m━━━━━━━━━━━━━━━━━━━━\u001b[0m\u001b[37m\u001b[0m \u001b[1m40s\u001b[0m 13ms/step - loss: 6.3994e-04 - mse: 6.3994e-04 - val_loss: 0.0076 - val_mse: 0.0076\n",
            "Epoch 15/100\n",
            "\u001b[1m2888/2890\u001b[0m \u001b[32m━━━━━━━━━━━━━━━━━━━\u001b[0m\u001b[37m━\u001b[0m \u001b[1m0s\u001b[0m 13ms/step - loss: 5.9453e-04 - mse: 5.9453e-04\n",
            "Epoch 15: val_loss did not improve from 0.00625\n",
            "\u001b[1m2890/2890\u001b[0m \u001b[32m━━━━━━━━━━━━━━━━━━━━\u001b[0m\u001b[37m\u001b[0m \u001b[1m38s\u001b[0m 13ms/step - loss: 5.9453e-04 - mse: 5.9453e-04 - val_loss: 0.0094 - val_mse: 0.0094\n",
            "Epoch 16/100\n",
            "\u001b[1m2888/2890\u001b[0m \u001b[32m━━━━━━━━━━━━━━━━━━━\u001b[0m\u001b[37m━\u001b[0m \u001b[1m0s\u001b[0m 13ms/step - loss: 5.7548e-04 - mse: 5.7548e-04\n",
            "Epoch 16: val_loss did not improve from 0.00625\n",
            "\u001b[1m2890/2890\u001b[0m \u001b[32m━━━━━━━━━━━━━━━━━━━━\u001b[0m\u001b[37m\u001b[0m \u001b[1m42s\u001b[0m 13ms/step - loss: 5.7547e-04 - mse: 5.7547e-04 - val_loss: 0.0085 - val_mse: 0.0085\n",
            "Epoch 17/100\n",
            "\u001b[1m2887/2890\u001b[0m \u001b[32m━━━━━━━━━━━━━━━━━━━\u001b[0m\u001b[37m━\u001b[0m \u001b[1m0s\u001b[0m 13ms/step - loss: 5.7323e-04 - mse: 5.7323e-04\n",
            "Epoch 17: val_loss did not improve from 0.00625\n",
            "\u001b[1m2890/2890\u001b[0m \u001b[32m━━━━━━━━━━━━━━━━━━━━\u001b[0m\u001b[37m\u001b[0m \u001b[1m42s\u001b[0m 14ms/step - loss: 5.7322e-04 - mse: 5.7322e-04 - val_loss: 0.0090 - val_mse: 0.0090\n",
            "Epoch 18/100\n",
            "\u001b[1m2888/2890\u001b[0m \u001b[32m━━━━━━━━━━━━━━━━━━━\u001b[0m\u001b[37m━\u001b[0m \u001b[1m0s\u001b[0m 13ms/step - loss: 5.4582e-04 - mse: 5.4582e-04\n",
            "Epoch 18: val_loss did not improve from 0.00625\n",
            "\u001b[1m2890/2890\u001b[0m \u001b[32m━━━━━━━━━━━━━━━━━━━━\u001b[0m\u001b[37m\u001b[0m \u001b[1m41s\u001b[0m 14ms/step - loss: 5.4581e-04 - mse: 5.4581e-04 - val_loss: 0.0091 - val_mse: 0.0091\n",
            "Epoch 19/100\n",
            "\u001b[1m2889/2890\u001b[0m \u001b[32m━━━━━━━━━━━━━━━━━━━\u001b[0m\u001b[37m━\u001b[0m \u001b[1m0s\u001b[0m 12ms/step - loss: 5.4197e-04 - mse: 5.4197e-04\n",
            "Epoch 19: val_loss did not improve from 0.00625\n",
            "\u001b[1m2890/2890\u001b[0m \u001b[32m━━━━━━━━━━━━━━━━━━━━\u001b[0m\u001b[37m\u001b[0m \u001b[1m39s\u001b[0m 13ms/step - loss: 5.4198e-04 - mse: 5.4198e-04 - val_loss: 0.0081 - val_mse: 0.0081\n",
            "Epoch 20/100\n",
            "\u001b[1m2890/2890\u001b[0m \u001b[32m━━━━━━━━━━━━━━━━━━━━\u001b[0m\u001b[37m\u001b[0m \u001b[1m0s\u001b[0m 12ms/step - loss: 5.1970e-04 - mse: 5.1970e-04\n",
            "Epoch 20: val_loss did not improve from 0.00625\n",
            "\u001b[1m2890/2890\u001b[0m \u001b[32m━━━━━━━━━━━━━━━━━━━━\u001b[0m\u001b[37m\u001b[0m \u001b[1m40s\u001b[0m 13ms/step - loss: 5.1970e-04 - mse: 5.1970e-04 - val_loss: 0.0090 - val_mse: 0.0090\n",
            "Epoch 21/100\n",
            "\u001b[1m2888/2890\u001b[0m \u001b[32m━━━━━━━━━━━━━━━━━━━\u001b[0m\u001b[37m━\u001b[0m \u001b[1m0s\u001b[0m 13ms/step - loss: 5.0302e-04 - mse: 5.0302e-04\n",
            "Epoch 21: val_loss did not improve from 0.00625\n",
            "\u001b[1m2890/2890\u001b[0m \u001b[32m━━━━━━━━━━━━━━━━━━━━\u001b[0m\u001b[37m\u001b[0m \u001b[1m39s\u001b[0m 13ms/step - loss: 5.0303e-04 - mse: 5.0303e-04 - val_loss: 0.0134 - val_mse: 0.0134\n",
            "Epoch 22/100\n",
            "\u001b[1m2888/2890\u001b[0m \u001b[32m━━━━━━━━━━━━━━━━━━━\u001b[0m\u001b[37m━\u001b[0m \u001b[1m0s\u001b[0m 13ms/step - loss: 5.0108e-04 - mse: 5.0108e-04\n",
            "Epoch 22: val_loss did not improve from 0.00625\n",
            "\u001b[1m2890/2890\u001b[0m \u001b[32m━━━━━━━━━━━━━━━━━━━━\u001b[0m\u001b[37m\u001b[0m \u001b[1m41s\u001b[0m 13ms/step - loss: 5.0108e-04 - mse: 5.0108e-04 - val_loss: 0.0099 - val_mse: 0.0099\n",
            "Epoch 23/100\n",
            "\u001b[1m2886/2890\u001b[0m \u001b[32m━━━━━━━━━━━━━━━━━━━\u001b[0m\u001b[37m━\u001b[0m \u001b[1m0s\u001b[0m 12ms/step - loss: 4.8785e-04 - mse: 4.8785e-04\n",
            "Epoch 23: val_loss did not improve from 0.00625\n",
            "\u001b[1m2890/2890\u001b[0m \u001b[32m━━━━━━━━━━━━━━━━━━━━\u001b[0m\u001b[37m\u001b[0m \u001b[1m37s\u001b[0m 13ms/step - loss: 4.8784e-04 - mse: 4.8784e-04 - val_loss: 0.0085 - val_mse: 0.0085\n",
            "Epoch 24/100\n",
            "\u001b[1m2889/2890\u001b[0m \u001b[32m━━━━━━━━━━━━━━━━━━━\u001b[0m\u001b[37m━\u001b[0m \u001b[1m0s\u001b[0m 13ms/step - loss: 4.8175e-04 - mse: 4.8175e-04\n",
            "Epoch 24: val_loss did not improve from 0.00625\n",
            "\u001b[1m2890/2890\u001b[0m \u001b[32m━━━━━━━━━━━━━━━━━━━━\u001b[0m\u001b[37m\u001b[0m \u001b[1m39s\u001b[0m 14ms/step - loss: 4.8175e-04 - mse: 4.8175e-04 - val_loss: 0.0120 - val_mse: 0.0120\n",
            "Epoch 25/100\n",
            "\u001b[1m2887/2890\u001b[0m \u001b[32m━━━━━━━━━━━━━━━━━━━\u001b[0m\u001b[37m━\u001b[0m \u001b[1m0s\u001b[0m 13ms/step - loss: 4.6245e-04 - mse: 4.6245e-04\n",
            "Epoch 25: val_loss did not improve from 0.00625\n",
            "\u001b[1m2890/2890\u001b[0m \u001b[32m━━━━━━━━━━━━━━━━━━━━\u001b[0m\u001b[37m\u001b[0m \u001b[1m40s\u001b[0m 14ms/step - loss: 4.6246e-04 - mse: 4.6246e-04 - val_loss: 0.0101 - val_mse: 0.0101\n",
            "Epoch 26/100\n",
            "\u001b[1m2890/2890\u001b[0m \u001b[32m━━━━━━━━━━━━━━━━━━━━\u001b[0m\u001b[37m\u001b[0m \u001b[1m0s\u001b[0m 13ms/step - loss: 4.6197e-04 - mse: 4.6197e-04\n",
            "Epoch 26: val_loss did not improve from 0.00625\n",
            "\u001b[1m2890/2890\u001b[0m \u001b[32m━━━━━━━━━━━━━━━━━━━━\u001b[0m\u001b[37m\u001b[0m \u001b[1m41s\u001b[0m 14ms/step - loss: 4.6198e-04 - mse: 4.6198e-04 - val_loss: 0.0090 - val_mse: 0.0090\n",
            "Epoch 27/100\n",
            "\u001b[1m2889/2890\u001b[0m \u001b[32m━━━━━━━━━━━━━━━━━━━\u001b[0m\u001b[37m━\u001b[0m \u001b[1m0s\u001b[0m 12ms/step - loss: 4.4831e-04 - mse: 4.4831e-04\n",
            "Epoch 27: val_loss did not improve from 0.00625\n",
            "\u001b[1m2890/2890\u001b[0m \u001b[32m━━━━━━━━━━━━━━━━━━━━\u001b[0m\u001b[37m\u001b[0m \u001b[1m39s\u001b[0m 13ms/step - loss: 4.4832e-04 - mse: 4.4832e-04 - val_loss: 0.0117 - val_mse: 0.0117\n",
            "Epoch 28/100\n",
            "\u001b[1m2887/2890\u001b[0m \u001b[32m━━━━━━━━━━━━━━━━━━━\u001b[0m\u001b[37m━\u001b[0m \u001b[1m0s\u001b[0m 12ms/step - loss: 4.2394e-04 - mse: 4.2394e-04\n",
            "Epoch 28: val_loss did not improve from 0.00625\n",
            "\u001b[1m2890/2890\u001b[0m \u001b[32m━━━━━━━━━━━━━━━━━━━━\u001b[0m\u001b[37m\u001b[0m \u001b[1m41s\u001b[0m 13ms/step - loss: 4.2397e-04 - mse: 4.2397e-04 - val_loss: 0.0155 - val_mse: 0.0155\n",
            "Epoch 29/100\n",
            "\u001b[1m2887/2890\u001b[0m \u001b[32m━━━━━━━━━━━━━━━━━━━\u001b[0m\u001b[37m━\u001b[0m \u001b[1m0s\u001b[0m 12ms/step - loss: 4.2632e-04 - mse: 4.2632e-04\n",
            "Epoch 29: val_loss did not improve from 0.00625\n",
            "\u001b[1m2890/2890\u001b[0m \u001b[32m━━━━━━━━━━━━━━━━━━━━\u001b[0m\u001b[37m\u001b[0m \u001b[1m40s\u001b[0m 13ms/step - loss: 4.2633e-04 - mse: 4.2633e-04 - val_loss: 0.0143 - val_mse: 0.0143\n",
            "Epoch 30/100\n",
            "\u001b[1m2887/2890\u001b[0m \u001b[32m━━━━━━━━━━━━━━━━━━━\u001b[0m\u001b[37m━\u001b[0m \u001b[1m0s\u001b[0m 12ms/step - loss: 4.3572e-04 - mse: 4.3572e-04\n",
            "Epoch 30: val_loss did not improve from 0.00625\n",
            "\u001b[1m2890/2890\u001b[0m \u001b[32m━━━━━━━━━━━━━━━━━━━━\u001b[0m\u001b[37m\u001b[0m \u001b[1m41s\u001b[0m 13ms/step - loss: 4.3572e-04 - mse: 4.3572e-04 - val_loss: 0.0133 - val_mse: 0.0133\n",
            "Epoch 31/100\n",
            "\u001b[1m2888/2890\u001b[0m \u001b[32m━━━━━━━━━━━━━━━━━━━\u001b[0m\u001b[37m━\u001b[0m \u001b[1m0s\u001b[0m 12ms/step - loss: 4.1764e-04 - mse: 4.1764e-04\n",
            "Epoch 31: val_loss did not improve from 0.00625\n",
            "\u001b[1m2890/2890\u001b[0m \u001b[32m━━━━━━━━━━━━━━━━━━━━\u001b[0m\u001b[37m\u001b[0m \u001b[1m40s\u001b[0m 13ms/step - loss: 4.1764e-04 - mse: 4.1764e-04 - val_loss: 0.0143 - val_mse: 0.0143\n",
            "Epoch 32/100\n",
            "\u001b[1m2889/2890\u001b[0m \u001b[32m━━━━━━━━━━━━━━━━━━━\u001b[0m\u001b[37m━\u001b[0m \u001b[1m0s\u001b[0m 12ms/step - loss: 4.1404e-04 - mse: 4.1404e-04\n",
            "Epoch 32: val_loss did not improve from 0.00625\n",
            "\u001b[1m2890/2890\u001b[0m \u001b[32m━━━━━━━━━━━━━━━━━━━━\u001b[0m\u001b[37m\u001b[0m \u001b[1m41s\u001b[0m 13ms/step - loss: 4.1405e-04 - mse: 4.1405e-04 - val_loss: 0.0138 - val_mse: 0.0138\n",
            "Epoch 33/100\n",
            "\u001b[1m2886/2890\u001b[0m \u001b[32m━━━━━━━━━━━━━━━━━━━\u001b[0m\u001b[37m━\u001b[0m \u001b[1m0s\u001b[0m 12ms/step - loss: 4.0516e-04 - mse: 4.0516e-04\n",
            "Epoch 33: val_loss did not improve from 0.00625\n",
            "\u001b[1m2890/2890\u001b[0m \u001b[32m━━━━━━━━━━━━━━━━━━━━\u001b[0m\u001b[37m\u001b[0m \u001b[1m42s\u001b[0m 13ms/step - loss: 4.0517e-04 - mse: 4.0517e-04 - val_loss: 0.0118 - val_mse: 0.0118\n",
            "Epoch 33: early stopping\n"
          ]
        },
        {
          "output_type": "display_data",
          "data": {
            "text/plain": [
              "<Figure size 640x480 with 1 Axes>"
            ],
            "image/png": "[encoded data removed]"
          },
          "metadata": {}
        },
        {
          "output_type": "stream",
          "name": "stdout",
          "text": [
            "---Training time: 1407.72312689 seconds ---\n"
          ]
        }
      ]
    },
    {
      "cell_type": "code",
      "source": [
        "# Model Performance: Training\n",
        "y_predtrain = model.predict(X_train)\n",
        "y_predtrain_SS = np.array(y_predtrain)\n",
        "\n",
        "train_r2_SS = r2_score(Y_train_SS, y_predtrain_SS)\n",
        "train_rmse_SS = np.sqrt(mean_squared_error(Y_train_SS, y_predtrain_SS))\n",
        "\n",
        "# Model Performance: Validation\n",
        "y_predval = model.predict(X_val)\n",
        "y_predval_SS = np.array(y_predval)\n",
        "\n",
        "val_r2_SS = r2_score(Y_val_SS, y_predval_SS)\n",
        "val_rmse_SS = np.sqrt(mean_squared_error(Y_val_SS, y_predval_SS))\n",
        "\n",
        "# Model Performance: Testing\n",
        "y_predtest = model.predict(x_test)\n",
        "y_predtest_SS =np.array(y_predtest)\n",
        "\n",
        "test_r2_SS = r2_score(y_test_SS,y_predtest_SS)\n",
        "test_rmse_SS = np.sqrt(mean_squared_error(y_test_SS, y_predtest_SS))\n",
        "\n",
        "# Print R2 Results\n",
        "print(\"R2 scores: Train (SS) - %0.5f\" %(train_r2_SS))\n",
        "print(\"R2 scores: Validation (SS) - %0.5f\" %(val_r2_SS))\n",
        "print(\"R2 scores: Testing (SS) - %0.5f\" %(test_r2_SS))\n",
        "\n",
        "# Print RSME Results\n",
        "print(\"RMSE scores: Train (SS) - %0.5f\" %(train_rmse_SS))\n",
        "print(\"RMSE scores: Validation (SS) - %0.5f\" %(val_rmse_SS))\n",
        "print(\"RMSE scores: Testing (SS) - %0.5f\" %(test_rmse_SS))"
      ],
      "metadata": {
        "id": "-0IgXpWOt98k",
        "colab": {
          "base_uri": "https://localhost:8080/"
        },
        "outputId": "394eef08-f8aa-4379-bc98-ae79a0ce3d66"
      },
      "execution_count": null,
      "outputs": [
        {
          "output_type": "stream",
          "name": "stdout",
          "text": [
            "\u001b[1m  27/2890\u001b[0m \u001b[37m━━━━━━━━━━━━━━━━━━━━\u001b[0m \u001b[1m17s\u001b[0m 6ms/step"
          ]
        },
        {
          "output_type": "stream",
          "name": "stderr",
          "text": [
            "/usr/local/lib/python3.11/dist-packages/keras/src/models/functional.py:237: UserWarning: The structure of `inputs` doesn't match the expected structure.\n",
            "Expected: ['X_train']\n",
            "Received: inputs=Tensor(shape=(32, 1500))\n",
            "  warnings.warn(msg)\n"
          ]
        },
        {
          "output_type": "stream",
          "name": "stdout",
          "text": [
            "\u001b[1m2890/2890\u001b[0m \u001b[32m━━━━━━━━━━━━━━━━━━━━\u001b[0m\u001b[37m\u001b[0m \u001b[1m10s\u001b[0m 3ms/step\n"
          ]
        },
        {
          "output_type": "stream",
          "name": "stderr",
          "text": [
            "/usr/local/lib/python3.11/dist-packages/keras/src/models/functional.py:237: UserWarning: The structure of `inputs` doesn't match the expected structure.\n",
            "Expected: ['X_train']\n",
            "Received: inputs=Tensor(shape=(None, 1500))\n",
            "  warnings.warn(msg)\n"
          ]
        },
        {
          "output_type": "stream",
          "name": "stdout",
          "text": [
            "\u001b[1m413/413\u001b[0m \u001b[32m━━━━━━━━━━━━━━━━━━━━\u001b[0m\u001b[37m\u001b[0m \u001b[1m2s\u001b[0m 5ms/step\n",
            "\u001b[1m826/826\u001b[0m \u001b[32m━━━━━━━━━━━━━━━━━━━━\u001b[0m\u001b[37m\u001b[0m \u001b[1m2s\u001b[0m 3ms/step\n",
            "R2 scores: Train (SS) - 0.98308\n",
            "R2 scores: Validation (SS) - 0.66669\n",
            "R2 scores: Testing (SS) - 0.50559\n",
            "RMSE scores: Train (SS) - 0.02120\n",
            "RMSE scores: Validation (SS) - 0.10863\n",
            "RMSE scores: Testing (SS) - 0.12960\n"
          ]
        }
      ]
    },
    {
      "cell_type": "code",
      "source": [
        "# # Inverse scaling: SS\n",
        "# Y_train_SS = scaler_ss.inverse_transform(Y_train_SS)\n",
        "# Y_val_SS = scaler_ss.inverse_transform(Y_val_SS)\n",
        "# y_test_SS = scaler_ss.inverse_transform(y_test_SS)\n",
        "# y_predtrain_SS = scaler_ss.inverse_transform(y_predtrain_SS)\n",
        "# y_predval_SS = scaler_ss.inverse_transform(y_predval_SS)\n",
        "# y_predtest_SS = scaler_ss.inverse_transform(y_predtest_SS)"
      ],
      "metadata": {
        "id": "ecSIN-QqulW5"
      },
      "execution_count": null,
      "outputs": []
    },
    {
      "cell_type": "code",
      "source": [
        "# # Extract Data\n",
        "# # SS\n",
        "# savetxt('Y_train_SS.csv', Y_train_SS, delimiter=',')\n",
        "# savetxt('Y_val_SS.csv', Y_val_SS, delimiter=',')\n",
        "# savetxt('y_test_SS.csv', y_test_SS, delimiter=',')\n",
        "# savetxt('y_predtrain_SS.csv', y_predtrain_SS, delimiter=',')\n",
        "# savetxt('y_predval_SS.csv', y_predval_SS, delimiter=',')\n",
        "# savetxt('y_predtest_SS.csv', y_predtest_SS, delimiter=',')"
      ],
      "metadata": {
        "id": "QFQNm91Q3UHG"
      },
      "execution_count": null,
      "outputs": []
    },
    {
      "cell_type": "code",
      "source": [
        "# # Download Data\n",
        "# # SS\n",
        "# files.download('Y_train_SS.csv')\n",
        "# files.download('Y_val_SS.csv')\n",
        "# files.download('y_test_SS.csv')\n",
        "# files.download('y_predtrain_SS.csv')\n",
        "# files.download('y_predval_SS.csv')\n",
        "# files.download('y_predtest_SS.csv')"
      ],
      "metadata": {
        "colab": {
          "base_uri": "https://localhost:8080/",
          "height": 17
        },
        "id": "kzD7ZIo9TVq1",
        "outputId": "d3e52390-0e3c-41f7-867d-4fcc20a75550"
      },
      "execution_count": null,
      "outputs": [
        {
          "output_type": "display_data",
          "data": {
            "text/plain": [
              "<IPython.core.display.Javascript object>"
            ],
            "application/javascript": [
              "\n",
              "    async function download(id, filename, size) {\n",
              "      if (!google.colab.kernel.accessAllowed) {\n",
              "        return;\n",
              "      }\n",
              "      const div = document.createElement('div');\n",
              "      const label = document.createElement('label');\n",
              "      label.textContent = `Downloading \"${filename}\": `;\n",
              "      div.appendChild(label);\n",
              "      const progress = document.createElement('progress');\n",
              "      progress.max = size;\n",
              "      div.appendChild(progress);\n",
              "      document.body.appendChild(div);\n",
              "\n",
              "      const buffers = [];\n",
              "      let downloaded = 0;\n",
              "\n",
              "      const channel = await google.colab.kernel.comms.open(id);\n",
              "      // Send a message to notify the kernel that we're ready.\n",
              "      channel.send({})\n",
              "\n",
              "      for await (const message of channel.messages) {\n",
              "        // Send a message to notify the kernel that we're ready.\n",
              "        channel.send({})\n",
              "        if (message.buffers) {\n",
              "          for (const buffer of message.buffers) {\n",
              "            buffers.push(buffer);\n",
              "            downloaded += buffer.byteLength;\n",
              "            progress.value = downloaded;\n",
              "          }\n",
              "        }\n",
              "      }\n",
              "      const blob = new Blob(buffers, {type: 'application/binary'});\n",
              "      const a = document.createElement('a');\n",
              "      a.href = window.URL.createObjectURL(blob);\n",
              "      a.download = filename;\n",
              "      div.appendChild(a);\n",
              "      a.click();\n",
              "      div.remove();\n",
              "    }\n",
              "  "
            ]
          },
          "metadata": {}
        },
        {
          "output_type": "display_data",
          "data": {
            "text/plain": [
              "<IPython.core.display.Javascript object>"
            ],
            "application/javascript": [
              "download(\"download_01aeb40a-ea46-4770-bf17-ccfa62c265df\", \"Y_train_SS.csv\", 2311825)"
            ]
          },
          "metadata": {}
        },
        {
          "output_type": "display_data",
          "data": {
            "text/plain": [
              "<IPython.core.display.Javascript object>"
            ],
            "application/javascript": [
              "\n",
              "    async function download(id, filename, size) {\n",
              "      if (!google.colab.kernel.accessAllowed) {\n",
              "        return;\n",
              "      }\n",
              "      const div = document.createElement('div');\n",
              "      const label = document.createElement('label');\n",
              "      label.textContent = `Downloading \"${filename}\": `;\n",
              "      div.appendChild(label);\n",
              "      const progress = document.createElement('progress');\n",
              "      progress.max = size;\n",
              "      div.appendChild(progress);\n",
              "      document.body.appendChild(div);\n",
              "\n",
              "      const buffers = [];\n",
              "      let downloaded = 0;\n",
              "\n",
              "      const channel = await google.colab.kernel.comms.open(id);\n",
              "      // Send a message to notify the kernel that we're ready.\n",
              "      channel.send({})\n",
              "\n",
              "      for await (const message of channel.messages) {\n",
              "        // Send a message to notify the kernel that we're ready.\n",
              "        channel.send({})\n",
              "        if (message.buffers) {\n",
              "          for (const buffer of message.buffers) {\n",
              "            buffers.push(buffer);\n",
              "            downloaded += buffer.byteLength;\n",
              "            progress.value = downloaded;\n",
              "          }\n",
              "        }\n",
              "      }\n",
              "      const blob = new Blob(buffers, {type: 'application/binary'});\n",
              "      const a = document.createElement('a');\n",
              "      a.href = window.URL.createObjectURL(blob);\n",
              "      a.download = filename;\n",
              "      div.appendChild(a);\n",
              "      a.click();\n",
              "      div.remove();\n",
              "    }\n",
              "  "
            ]
          },
          "metadata": {}
        },
        {
          "output_type": "display_data",
          "data": {
            "text/plain": [
              "<IPython.core.display.Javascript object>"
            ],
            "application/javascript": [
              "download(\"download_be24d376-9521-4092-acdb-cf619f8bc519\", \"Y_val_SS.csv\", 330275)"
            ]
          },
          "metadata": {}
        },
        {
          "output_type": "display_data",
          "data": {
            "text/plain": [
              "<IPython.core.display.Javascript object>"
            ],
            "application/javascript": [
              "\n",
              "    async function download(id, filename, size) {\n",
              "      if (!google.colab.kernel.accessAllowed) {\n",
              "        return;\n",
              "      }\n",
              "      const div = document.createElement('div');\n",
              "      const label = document.createElement('label');\n",
              "      label.textContent = `Downloading \"${filename}\": `;\n",
              "      div.appendChild(label);\n",
              "      const progress = document.createElement('progress');\n",
              "      progress.max = size;\n",
              "      div.appendChild(progress);\n",
              "      document.body.appendChild(div);\n",
              "\n",
              "      const buffers = [];\n",
              "      let downloaded = 0;\n",
              "\n",
              "      const channel = await google.colab.kernel.comms.open(id);\n",
              "      // Send a message to notify the kernel that we're ready.\n",
              "      channel.send({})\n",
              "\n",
              "      for await (const message of channel.messages) {\n",
              "        // Send a message to notify the kernel that we're ready.\n",
              "        channel.send({})\n",
              "        if (message.buffers) {\n",
              "          for (const buffer of message.buffers) {\n",
              "            buffers.push(buffer);\n",
              "            downloaded += buffer.byteLength;\n",
              "            progress.value = downloaded;\n",
              "          }\n",
              "        }\n",
              "      }\n",
              "      const blob = new Blob(buffers, {type: 'application/binary'});\n",
              "      const a = document.createElement('a');\n",
              "      a.href = window.URL.createObjectURL(blob);\n",
              "      a.download = filename;\n",
              "      div.appendChild(a);\n",
              "      a.click();\n",
              "      div.remove();\n",
              "    }\n",
              "  "
            ]
          },
          "metadata": {}
        },
        {
          "output_type": "display_data",
          "data": {
            "text/plain": [
              "<IPython.core.display.Javascript object>"
            ],
            "application/javascript": [
              "download(\"download_d5c178ca-ce80-4c17-8ddc-6b3a6ee77c3b\", \"y_test_SS.csv\", 660525)"
            ]
          },
          "metadata": {}
        },
        {
          "output_type": "display_data",
          "data": {
            "text/plain": [
              "<IPython.core.display.Javascript object>"
            ],
            "application/javascript": [
              "\n",
              "    async function download(id, filename, size) {\n",
              "      if (!google.colab.kernel.accessAllowed) {\n",
              "        return;\n",
              "      }\n",
              "      const div = document.createElement('div');\n",
              "      const label = document.createElement('label');\n",
              "      label.textContent = `Downloading \"${filename}\": `;\n",
              "      div.appendChild(label);\n",
              "      const progress = document.createElement('progress');\n",
              "      progress.max = size;\n",
              "      div.appendChild(progress);\n",
              "      document.body.appendChild(div);\n",
              "\n",
              "      const buffers = [];\n",
              "      let downloaded = 0;\n",
              "\n",
              "      const channel = await google.colab.kernel.comms.open(id);\n",
              "      // Send a message to notify the kernel that we're ready.\n",
              "      channel.send({})\n",
              "\n",
              "      for await (const message of channel.messages) {\n",
              "        // Send a message to notify the kernel that we're ready.\n",
              "        channel.send({})\n",
              "        if (message.buffers) {\n",
              "          for (const buffer of message.buffers) {\n",
              "            buffers.push(buffer);\n",
              "            downloaded += buffer.byteLength;\n",
              "            progress.value = downloaded;\n",
              "          }\n",
              "        }\n",
              "      }\n",
              "      const blob = new Blob(buffers, {type: 'application/binary'});\n",
              "      const a = document.createElement('a');\n",
              "      a.href = window.URL.createObjectURL(blob);\n",
              "      a.download = filename;\n",
              "      div.appendChild(a);\n",
              "      a.click();\n",
              "      div.remove();\n",
              "    }\n",
              "  "
            ]
          },
          "metadata": {}
        },
        {
          "output_type": "display_data",
          "data": {
            "text/plain": [
              "<IPython.core.display.Javascript object>"
            ],
            "application/javascript": [
              "download(\"download_52fb440f-5ccb-4db8-aa55-6c03969c35d7\", \"y_predtrain_SS.csv\", 2311825)"
            ]
          },
          "metadata": {}
        },
        {
          "output_type": "display_data",
          "data": {
            "text/plain": [
              "<IPython.core.display.Javascript object>"
            ],
            "application/javascript": [
              "\n",
              "    async function download(id, filename, size) {\n",
              "      if (!google.colab.kernel.accessAllowed) {\n",
              "        return;\n",
              "      }\n",
              "      const div = document.createElement('div');\n",
              "      const label = document.createElement('label');\n",
              "      label.textContent = `Downloading \"${filename}\": `;\n",
              "      div.appendChild(label);\n",
              "      const progress = document.createElement('progress');\n",
              "      progress.max = size;\n",
              "      div.appendChild(progress);\n",
              "      document.body.appendChild(div);\n",
              "\n",
              "      const buffers = [];\n",
              "      let downloaded = 0;\n",
              "\n",
              "      const channel = await google.colab.kernel.comms.open(id);\n",
              "      // Send a message to notify the kernel that we're ready.\n",
              "      channel.send({})\n",
              "\n",
              "      for await (const message of channel.messages) {\n",
              "        // Send a message to notify the kernel that we're ready.\n",
              "        channel.send({})\n",
              "        if (message.buffers) {\n",
              "          for (const buffer of message.buffers) {\n",
              "            buffers.push(buffer);\n",
              "            downloaded += buffer.byteLength;\n",
              "            progress.value = downloaded;\n",
              "          }\n",
              "        }\n",
              "      }\n",
              "      const blob = new Blob(buffers, {type: 'application/binary'});\n",
              "      const a = document.createElement('a');\n",
              "      a.href = window.URL.createObjectURL(blob);\n",
              "      a.download = filename;\n",
              "      div.appendChild(a);\n",
              "      a.click();\n",
              "      div.remove();\n",
              "    }\n",
              "  "
            ]
          },
          "metadata": {}
        },
        {
          "output_type": "display_data",
          "data": {
            "text/plain": [
              "<IPython.core.display.Javascript object>"
            ],
            "application/javascript": [
              "download(\"download_63a5b571-2b73-4f2c-a5b0-0457129d5e43\", \"y_predval_SS.csv\", 330275)"
            ]
          },
          "metadata": {}
        },
        {
          "output_type": "display_data",
          "data": {
            "text/plain": [
              "<IPython.core.display.Javascript object>"
            ],
            "application/javascript": [
              "\n",
              "    async function download(id, filename, size) {\n",
              "      if (!google.colab.kernel.accessAllowed) {\n",
              "        return;\n",
              "      }\n",
              "      const div = document.createElement('div');\n",
              "      const label = document.createElement('label');\n",
              "      label.textContent = `Downloading \"${filename}\": `;\n",
              "      div.appendChild(label);\n",
              "      const progress = document.createElement('progress');\n",
              "      progress.max = size;\n",
              "      div.appendChild(progress);\n",
              "      document.body.appendChild(div);\n",
              "\n",
              "      const buffers = [];\n",
              "      let downloaded = 0;\n",
              "\n",
              "      const channel = await google.colab.kernel.comms.open(id);\n",
              "      // Send a message to notify the kernel that we're ready.\n",
              "      channel.send({})\n",
              "\n",
              "      for await (const message of channel.messages) {\n",
              "        // Send a message to notify the kernel that we're ready.\n",
              "        channel.send({})\n",
              "        if (message.buffers) {\n",
              "          for (const buffer of message.buffers) {\n",
              "            buffers.push(buffer);\n",
              "            downloaded += buffer.byteLength;\n",
              "            progress.value = downloaded;\n",
              "          }\n",
              "        }\n",
              "      }\n",
              "      const blob = new Blob(buffers, {type: 'application/binary'});\n",
              "      const a = document.createElement('a');\n",
              "      a.href = window.URL.createObjectURL(blob);\n",
              "      a.download = filename;\n",
              "      div.appendChild(a);\n",
              "      a.click();\n",
              "      div.remove();\n",
              "    }\n",
              "  "
            ]
          },
          "metadata": {}
        },
        {
          "output_type": "display_data",
          "data": {
            "text/plain": [
              "<IPython.core.display.Javascript object>"
            ],
            "application/javascript": [
              "download(\"download_649d3282-e19e-45c9-9745-7ea1f6949325\", \"y_predtest_SS.csv\", 660525)"
            ]
          },
          "metadata": {}
        }
      ]
    }
  ]
}