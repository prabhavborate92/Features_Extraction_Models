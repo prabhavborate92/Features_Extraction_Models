{
  "nbformat": 4,
  "nbformat_minor": 0,
  "metadata": {
    "colab": {
      "provenance": [],
      "gpuType": "T4"
    },
    "kernelspec": {
      "display_name": "Python 3",
      "name": "python3"
    },
    "accelerator": "GPU"
  },
  "cells": [
    {
      "cell_type": "code",
      "metadata": {
        "id": "ioYp7hwEZ0kB"
      },
      "source": [
        "# Load libraries\n",
        "import math\n",
        "import sys\n",
        "import h5py\n",
        "import pandas as pd\n",
        "import numpy as np\n",
        "import matplotlib.pyplot as plt\n",
        "import pywt\n",
        "from scipy.io import loadmat, savemat\n",
        "from scipy import signal\n",
        "from tensorflow.keras.optimizers import Adam, SGD\n",
        "import tensorflow as tf\n",
        "import keras.backend as K\n",
        "from keras.models import Sequential,  Model\n",
        "from keras.layers import Dense, LSTM, TimeDistributed, Flatten, Bidirectional, Input\n",
        "from keras.layers import MaxPooling2D, Conv2D, MaxPooling1D, Conv1D, Dense, Flatten, AveragePooling1D, LSTM, Dropout, Input, Concatenate, LeakyReLU, BatchNormalization, Activation\n",
        "import time\n",
        "from sklearn.preprocessing import MinMaxScaler\n",
        "from sklearn.metrics import r2_score, mean_squared_error\n",
        "from sklearn.model_selection import train_test_split\n",
        "from sklearn.preprocessing import minmax_scale\n",
        "from keras.callbacks import EarlyStopping\n",
        "from keras.callbacks import ModelCheckpoint\n",
        "from keras.models import load_model\n",
        "from google.colab import files\n",
        "from numpy import savetxt\n",
        "from keras.layers import Layer"
      ],
      "execution_count": null,
      "outputs": []
    },
    {
      "cell_type": "code",
      "source": [
        "# ==== Reproducibility Setup ====\n",
        "import os\n",
        "import random\n",
        "\n",
        "seed = 0  # You can change this to any integer to control the seed globally\n",
        "\n",
        "# Set seeds for reproducibility\n",
        "os.environ['PYTHONHASHSEED'] = str(seed)\n",
        "random.seed(seed)\n",
        "np.random.seed(seed)\n",
        "tf.random.set_seed(seed)\n",
        "\n",
        "# Enable deterministic operations (may reduce speed slightly)\n",
        "tf.config.experimental.enable_op_determinism()\n",
        "# =================================\n",
        "\n",
        "# Create a seeded initializer to ensure consistent weights\n",
        "initializer = tf.keras.initializers.GlorotUniform(seed=seed)"
      ],
      "metadata": {
        "id": "bqgta2fZKTQQ"
      },
      "execution_count": null,
      "outputs": []
    },
    {
      "cell_type": "code",
      "metadata": {
        "colab": {
          "base_uri": "https://localhost:8080/"
        },
        "id": "BM_U7qt-4-yA",
        "outputId": "9ef0dcd8-2d70-4443-eee6-4097f4131ce9"
      },
      "source": [
        "# Mount drive\n",
        "from google.colab import drive\n",
        "drive.mount('/content/drive')"
      ],
      "execution_count": null,
      "outputs": [
        {
          "output_type": "stream",
          "name": "stdout",
          "text": [
            "Mounted at /content/drive\n"
          ]
        }
      ]
    },
    {
      "cell_type": "code",
      "metadata": {
        "id": "B6PeHC-NaGhJ"
      },
      "source": [
        "# Load raw ultrasonic data\n",
        "data1 = np.load('/content/drive/My Drive/Colab Notebooks/p5270/Labquake_prediction/Data_Extraction/Data/NPData/Npclean1.npz')\n",
        "data2 = np.load('/content/drive/My Drive/Colab Notebooks/p5270/Labquake_prediction/Data_Extraction/Data/NPData/Npclean2.npz')\n",
        "data3 = np.load('/content/drive/My Drive/Colab Notebooks/p5270/Labquake_prediction/Data_Extraction/Data/NPData/Npclean3.npz')\n",
        "data4 = np.load('/content/drive/My Drive/Colab Notebooks/p5270/Labquake_prediction/Data_Extraction/Data/NPData/Npclean4.npz')\n",
        "data5 = np.load('/content/drive/My Drive/Colab Notebooks/p5270/Labquake_prediction/Data_Extraction/Data/NPData/Npclean5.npz')"
      ],
      "execution_count": null,
      "outputs": []
    },
    {
      "cell_type": "code",
      "metadata": {
        "colab": {
          "base_uri": "https://localhost:8080/"
        },
        "id": "dy5qkmQraQyb",
        "outputId": "23b3c3cb-4877-487e-9d7e-a87550f8fc86"
      },
      "source": [
        "# Get training time\n",
        "def truncate(n,i):\n",
        "  return math.floor(n*10**i)/10**i\n",
        "\n",
        "train_time = np.concatenate((data1['Time'], data2['Time'], data3['Time'], data4['Time'], data5['Time']), axis=None)\n",
        "ttime = [truncate(i,2) for i in train_time]\n",
        "print(np.shape(ttime))\n",
        "ttime = np.reshape(ttime, (np.shape(ttime)[0], 1))\n",
        "print(ttime)\n",
        "print(np.shape(ttime))\n",
        "\n",
        "del train_time"
      ],
      "execution_count": null,
      "outputs": [
        {
          "output_type": "stream",
          "name": "stdout",
          "text": [
            "(1324032,)\n",
            "[[2102.67]\n",
            " [2102.67]\n",
            " [2102.67]\n",
            " ...\n",
            " [3426.96]\n",
            " [3426.96]\n",
            " [3426.96]]\n",
            "(1324032, 1)\n"
          ]
        }
      ]
    },
    {
      "cell_type": "code",
      "metadata": {
        "id": "qhq-TID2XKdc",
        "colab": {
          "base_uri": "https://localhost:8080/"
        },
        "outputId": "a4408c5c-65b7-4b11-a427-8170de971d84"
      },
      "source": [
        "# Collect raw ultrasonic data\n",
        "train_data = np.concatenate((data1['AcData'], data2['AcData'], data3['AcData'], data4['AcData'], data5['AcData']), axis=0)\n",
        "print(train_data)\n",
        "print(np.shape(train_data))"
      ],
      "execution_count": null,
      "outputs": [
        {
          "output_type": "stream",
          "name": "stdout",
          "text": [
            "[[ 21   9  26 ... -31 -33 -45]\n",
            " [ 17  20  28 ... -25 -30 -41]\n",
            " [  8  10  17 ... -17 -20 -38]\n",
            " ...\n",
            " [ 21  30  29 ... 232 242 238]\n",
            " [ 27  10  20 ... 248 239 228]\n",
            " [ 58  93 111 ... 249 224 216]]\n",
            "(1324032, 1568)\n"
          ]
        }
      ]
    },
    {
      "cell_type": "code",
      "metadata": {
        "id": "eIIcmeyQXfsb"
      },
      "source": [
        "# Delete raw ultrasonic data\n",
        "del data1, data2, data3, data4, data5"
      ],
      "execution_count": null,
      "outputs": []
    },
    {
      "cell_type": "code",
      "metadata": {
        "colab": {
          "base_uri": "https://localhost:8080/"
        },
        "id": "04BEif_JYF0H",
        "outputId": "e9f40faa-1a04-46fe-ffd2-b758bdd5f8d8"
      },
      "source": [
        "# Combine ultrasound data & time\n",
        "ttime = pd.DataFrame(ttime).rename(columns={0:'Time'})\n",
        "full_df = ttime.join(pd.DataFrame(train_data))\n",
        "print(full_df)\n",
        "del train_data, ttime"
      ],
      "execution_count": null,
      "outputs": [
        {
          "output_type": "stream",
          "name": "stdout",
          "text": [
            "            Time   0   1    2    3    4   5   6   7   8  ...  1558  1559  \\\n",
            "0        2102.67  21   9   26   20   31  43  25  20  31  ...     4    -6   \n",
            "1        2102.67  17  20   28   24   29  40  40  35  44  ...    -6   -10   \n",
            "2        2102.67   8  10   17   13   32  45  29  25  22  ...     2    -9   \n",
            "3        2102.67   2   5   14    8   17  21  11  15  19  ...     3     2   \n",
            "4        2102.67  15  15   10   22   29  34  19  19  27  ...    -1     3   \n",
            "...          ...  ..  ..  ...  ...  ...  ..  ..  ..  ..  ...   ...   ...   \n",
            "1324027  3426.96  24  22   18   36   36  26  24  19  21  ...   248   260   \n",
            "1324028  3426.96  24  16   21   32   31  27  22  15  34  ...   258   261   \n",
            "1324029  3426.96  21  30   29   30   25  35  34  30  36  ...   268   275   \n",
            "1324030  3426.96  27  10   20   29   28  29  38  21  25  ...   265   258   \n",
            "1324031  3426.96  58  93  111  124  115  89  44  35  19  ...   256   269   \n",
            "\n",
            "         1560  1561  1562  1563  1564  1565  1566  1567  \n",
            "0           1    -2   -11   -14   -25   -31   -33   -45  \n",
            "1          -6    -5   -10   -19   -26   -25   -30   -41  \n",
            "2         -10   -12   -15   -15   -19   -17   -20   -38  \n",
            "3          -9    -3    10     5   -18   -21   -35   -40  \n",
            "4          -9    -8   -13   -18   -18   -17   -24   -38  \n",
            "...       ...   ...   ...   ...   ...   ...   ...   ...  \n",
            "1324027   263   255   250   258   253   233   231   232  \n",
            "1324028   264   256   261   246   255   245   232   227  \n",
            "1324029   265   254   264   264   246   232   242   238  \n",
            "1324030   262   268   265   252   258   248   239   228  \n",
            "1324031   265   259   265   248   245   249   224   216  \n",
            "\n",
            "[1324032 rows x 1569 columns]\n"
          ]
        }
      ]
    },
    {
      "cell_type": "code",
      "metadata": {
        "id": "kpxp7E16eh_t",
        "colab": {
          "base_uri": "https://localhost:8080/"
        },
        "outputId": "630d15fb-cae1-40f1-b8d1-07526698867c"
      },
      "source": [
        "# Drop duplicate time data\n",
        "full_df = full_df.drop_duplicates(subset=['Time'], keep='last').reset_index(drop=True)\n",
        "full_df = full_df.set_index('Time')\n",
        "print(full_df)"
      ],
      "execution_count": null,
      "outputs": [
        {
          "output_type": "stream",
          "name": "stdout",
          "text": [
            "         0     1     2     3     4     5     6     7     8     9     ...  \\\n",
            "Time                                                                 ...   \n",
            "2102.67    20    17    14    13    35    49    37    37    23    19  ...   \n",
            "2102.68    10    16    20    13    34    34    33    37    24    16  ...   \n",
            "2102.69    18    14    18    28    23    31    26    22    20     4  ...   \n",
            "2102.70    26    13    22    26    25    35    25    25    40    14  ...   \n",
            "2102.71    14    11     9    20    31    34    29     2     5    13  ...   \n",
            "...       ...   ...   ...   ...   ...   ...   ...   ...   ...   ...  ...   \n",
            "3426.92     9    18    19    16    41    23    12    29    18     3  ...   \n",
            "3426.93    17    24    16    23    19    17    20    21    28    12  ...   \n",
            "3426.94    10    12    25    13    27    50    25    27    19     2  ...   \n",
            "3426.95     3    15    21    23    39    38    21    23    22    15  ...   \n",
            "3426.96    58    93   111   124   115    89    44    35    19   -14  ...   \n",
            "\n",
            "         1558  1559  1560  1561  1562  1563  1564  1565  1566  1567  \n",
            "Time                                                                 \n",
            "2102.67    -2     4    -2    12     8    -7    -6   -19   -23   -42  \n",
            "2102.68   -27   -50   -42   -44   -39   -12    -3   -10    -5     2  \n",
            "2102.69     8   -12   -16    -8    -8   -20   -26   -33   -31   -41  \n",
            "2102.70   -11    -8    -9    -4    -5   -17    -8   -16   -28   -27  \n",
            "2102.71     0    -7   -14   -14    -5    -8   -26   -27   -22   -30  \n",
            "...       ...   ...   ...   ...   ...   ...   ...   ...   ...   ...  \n",
            "3426.92   251   264   265   250   256   256   251   245   237   228  \n",
            "3426.93   263   266   261   263   271   270   256   243   238   242  \n",
            "3426.94   255   271   255   268   264   250   262   251   233   227  \n",
            "3426.95   257   259   247   258   252   243   250   232   230   230  \n",
            "3426.96   256   269   265   259   265   248   245   249   224   216  \n",
            "\n",
            "[132406 rows x 1568 columns]\n"
          ]
        }
      ]
    },
    {
      "cell_type": "code",
      "metadata": {
        "id": "jfVQA27_beKA",
        "colab": {
          "base_uri": "https://localhost:8080/"
        },
        "outputId": "7c1ae087-1f0a-4ec5-a358-8156bc2fd27f"
      },
      "source": [
        "# Load shear stress data\n",
        "data = loadmat('/content/drive/My Drive/Colab Notebooks/p5270/Labquake_prediction/MLpreprocessed_code/data/p5270_ML_Master.mat')\n",
        "m_t = pd.DataFrame({'Time':data['Time'].ravel().round(2), 'SS':data['SS'].ravel()})\n",
        "m_t = m_t[:][175604:175604+132400].reset_index(drop=True)\n",
        "print(m_t)"
      ],
      "execution_count": null,
      "outputs": [
        {
          "output_type": "stream",
          "name": "stdout",
          "text": [
            "           Time        SS\n",
            "0       2102.91  5.657157\n",
            "1       2102.92  5.658317\n",
            "2       2102.93  5.659499\n",
            "3       2102.94  5.660404\n",
            "4       2102.95  5.661648\n",
            "...         ...       ...\n",
            "132395  3426.86  5.474545\n",
            "132396  3426.87  5.478286\n",
            "132397  3426.88  5.481751\n",
            "132398  3426.89  5.484813\n",
            "132399  3426.90  5.487332\n",
            "\n",
            "[132400 rows x 2 columns]\n"
          ]
        }
      ]
    },
    {
      "cell_type": "code",
      "metadata": {
        "id": "IeHW9uRNoKA_",
        "colab": {
          "base_uri": "https://localhost:8080/"
        },
        "outputId": "6b2126d8-8b3a-4dbf-cb68-ac9b1595b6e9"
      },
      "source": [
        "# Merge raw ultrasonic data & shear stress based on time\n",
        "# Prepare input data (xdf): raw ultrasonic signal\n",
        "# Prepare output data (ydf): shear stress\n",
        "df = full_df.reset_index().merge(m_t, on='Time').reset_index(drop=True)\n",
        "xdf = df.drop(['Time', 'SS'], axis=1)\n",
        "ydf = df[['SS']]\n",
        "print(xdf)\n",
        "print(ydf)"
      ],
      "execution_count": null,
      "outputs": [
        {
          "output_type": "stream",
          "name": "stdout",
          "text": [
            "        0     1     2     3     4     5     6     7     8     9     ...  1558  \\\n",
            "0         16    23    16    31    33    27    24    26    32    17  ...     0   \n",
            "1         15    19    32    30    31    40    34    28    37    17  ...    -5   \n",
            "2          9    16    20    27    36    44    21    10    26    12  ...    28   \n",
            "3         26    24    21    22    27    36    28    24    17     7  ...    -5   \n",
            "4         10    14    24    28    35    36    26    25    17    20  ...    -4   \n",
            "...      ...   ...   ...   ...   ...   ...   ...   ...   ...   ...  ...   ...   \n",
            "132371    25    37    15    19    39    30    35    30    21    28  ...   253   \n",
            "132372    20    14     7    10    27    18    21    21    32    21  ...   254   \n",
            "132373    22     9    17    27    33    29    15    14     5    17  ...   260   \n",
            "132374    24    17     8    18    31    46    36    19    34    24  ...   266   \n",
            "132375    17    20    33    33    38    39    27    17    19    25  ...   257   \n",
            "\n",
            "        1559  1560  1561  1562  1563  1564  1565  1566  1567  \n",
            "0          3    13    -4    -7    -5    -7   -14   -22   -29  \n",
            "1        -13     1    -7   -23   -20   -34   -32   -32   -40  \n",
            "2          5     3     9     9    13    19    12    -4     3  \n",
            "3         -4    -4   -11   -18   -10   -18   -33   -31   -37  \n",
            "4          6    -1    -9   -18    -5   -20   -21   -17   -39  \n",
            "...      ...   ...   ...   ...   ...   ...   ...   ...   ...  \n",
            "132371   261   258   255   256   246   251   242   224   227  \n",
            "132372   254   263   253   258   259   245   238   230   231  \n",
            "132373   256   256   247   260   249   235   241   234   219  \n",
            "132374   252   257   257   241   251   245   239   232   226  \n",
            "132375   253   252   258   259   251   255   255   243   239  \n",
            "\n",
            "[132376 rows x 1568 columns]\n",
            "              SS\n",
            "0       5.657157\n",
            "1       5.658317\n",
            "2       5.659499\n",
            "3       5.660404\n",
            "4       5.661648\n",
            "...          ...\n",
            "132371  5.474545\n",
            "132372  5.478286\n",
            "132373  5.481751\n",
            "132374  5.484813\n",
            "132375  5.487332\n",
            "\n",
            "[132376 rows x 1 columns]\n"
          ]
        }
      ]
    },
    {
      "cell_type": "code",
      "metadata": {
        "id": "ksZPU7EHpJwj"
      },
      "source": [
        "# Split data in train-val-test (72-8-20)\n",
        "x_train, x_test1, y_train, y_test = train_test_split(xdf, ydf, test_size=0.2, shuffle=False)\n",
        "X_train1, X_val1, Y_train, Y_val = train_test_split(x_train, y_train, test_size=0.125, shuffle=False)\n",
        "\n",
        "del x_train, y_train"
      ],
      "execution_count": null,
      "outputs": []
    },
    {
      "cell_type": "code",
      "metadata": {
        "id": "PTYHMKJO0pKF",
        "colab": {
          "base_uri": "https://localhost:8080/"
        },
        "outputId": "89fca9e3-acd2-4941-9567-e90b70cadc4e"
      },
      "source": [
        "# Reshape data & scaling\n",
        "X_train = np.reshape(X_train1.values, (-1,1))\n",
        "X_val = np.reshape(X_val1.values, (-1,1))\n",
        "x_test = np.reshape(x_test1.values, (-1,1))\n",
        "\n",
        "del X_train1, X_val1, x_test1\n",
        "\n",
        "sc = MinMaxScaler(feature_range=(-1,1))\n",
        "X_train = sc.fit_transform(X_train)\n",
        "X_val = sc.transform(X_val)\n",
        "x_test = sc.transform(x_test)\n",
        "\n",
        "X_train = np.reshape(X_train, (-1,1568))\n",
        "X_val = np.reshape(X_val, (-1,1568))\n",
        "x_test = np.reshape(x_test, (-1,1568))\n",
        "\n",
        "print(X_train.shape, X_val.shape, x_test.shape)\n",
        "print(Y_train.shape, Y_val.shape,y_test.shape)"
      ],
      "execution_count": null,
      "outputs": [
        {
          "output_type": "stream",
          "name": "stdout",
          "text": [
            "(92662, 1568) (13238, 1568) (26476, 1568)\n",
            "(92662, 1) (13238, 1) (26476, 1)\n"
          ]
        }
      ]
    },
    {
      "cell_type": "code",
      "metadata": {
        "id": "HYeXkLv9rAhM",
        "colab": {
          "base_uri": "https://localhost:8080/"
        },
        "outputId": "0a321db2-23e2-41bb-f4d2-4b66ccba2fc9"
      },
      "source": [
        "# Reshape in the tensor form\n",
        "X_train = np.reshape(np.array(X_train), (X_train.shape[0], X_train.shape[1], 1))\n",
        "X_val = np.reshape(np.array(X_val), (X_val.shape[0], X_val.shape[1], 1))\n",
        "x_test = np.reshape(np.array(x_test), (x_test.shape[0], x_test.shape[1], 1))\n",
        "print(X_train.shape, X_val.shape, x_test.shape)"
      ],
      "execution_count": null,
      "outputs": [
        {
          "output_type": "stream",
          "name": "stdout",
          "text": [
            "(92662, 1568, 1) (13238, 1568, 1) (26476, 1568, 1)\n"
          ]
        }
      ]
    },
    {
      "cell_type": "code",
      "source": [
        "# Input Signal\n",
        "inp = Input(shape=(1568, 1))\n",
        "\n",
        "# CNN 1\n",
        "x = Conv1D(32, kernel_size=100)(inp)\n",
        "x = BatchNormalization()(x)\n",
        "x = Activation(LeakyReLU())(x)\n",
        "x = MaxPooling1D(pool_size=20, strides=2)(x)\n",
        "\n",
        "# CNN 2\n",
        "x = Conv1D(32, kernel_size=100)(x)\n",
        "x = BatchNormalization()(x)\n",
        "x = Activation(LeakyReLU())(x)\n",
        "x = MaxPooling1D(pool_size=20, strides=2)(x)\n",
        "\n",
        "# CNN 3\n",
        "x = Conv1D(16, kernel_size=50)(x)\n",
        "x = BatchNormalization()(x)\n",
        "x = Activation(LeakyReLU())(x)\n",
        "x = MaxPooling1D(pool_size=10, strides=2)(x)\n",
        "\n",
        "# CNN 4\n",
        "x = Conv1D(16, kernel_size=50)(x)\n",
        "x = BatchNormalization()(x)\n",
        "x = Activation(LeakyReLU())(x)\n",
        "x = MaxPooling1D(pool_size=10, strides=2)(x)\n",
        "\n",
        "# CNN 5\n",
        "x = Conv1D(8, kernel_size=20)(x)\n",
        "x = BatchNormalization()(x)\n",
        "x = Activation(LeakyReLU())(x)\n",
        "x = MaxPooling1D(pool_size=5, strides=2)(x)\n",
        "\n",
        "# CNN 6\n",
        "x = Conv1D(5, kernel_size=2)(x)\n",
        "x = BatchNormalization()(x)\n",
        "x = Activation(LeakyReLU())(x)\n",
        "x = MaxPooling1D(pool_size=3, strides=2)(x)\n",
        "\n",
        "# Extract Features\n",
        "f2 = Flatten(name='Features')(x)\n",
        "\n",
        "# Regression Output\n",
        "op = Dense(1, activation='linear')(f2)\n",
        "\n",
        "# Build Model\n",
        "model = Model(inputs=inp, outputs=op)\n",
        "\n",
        "# Summary\n",
        "model.summary()"
      ],
      "metadata": {
        "id": "PNDFPSKl5syS",
        "colab": {
          "base_uri": "https://localhost:8080/",
          "height": 1000
        },
        "outputId": "423f4a14-d105-448e-9394-21051ea6aad6"
      },
      "execution_count": null,
      "outputs": [
        {
          "output_type": "display_data",
          "data": {
            "text/plain": [
              "\u001b[1mModel: \"functional\"\u001b[0m\n"
            ],
            "text/html": [
              "<pre style=\"white-space:pre;overflow-x:auto;line-height:normal;font-family:Menlo,'DejaVu Sans Mono',consolas,'Courier New',monospace\"><span style=\"font-weight: bold\">Model: \"functional\"</span>\n",
              "</pre>\n"
            ]
          },
          "metadata": {}
        },
        {
          "output_type": "display_data",
          "data": {
            "text/plain": [
              "┏━━━━━━━━━━━━━━━━━━━━━━━━━━━━━━━━━┳━━━━━━━━━━━━━━━━━━━━━━━━┳━━━━━━━━━━━━━━━┓\n",
              "┃\u001b[1m \u001b[0m\u001b[1mLayer (type)                   \u001b[0m\u001b[1m \u001b[0m┃\u001b[1m \u001b[0m\u001b[1mOutput Shape          \u001b[0m\u001b[1m \u001b[0m┃\u001b[1m \u001b[0m\u001b[1m      Param #\u001b[0m\u001b[1m \u001b[0m┃\n",
              "┡━━━━━━━━━━━━━━━━━━━━━━━━━━━━━━━━━╇━━━━━━━━━━━━━━━━━━━━━━━━╇━━━━━━━━━━━━━━━┩\n",
              "│ input_layer (\u001b[38;5;33mInputLayer\u001b[0m)        │ (\u001b[38;5;45mNone\u001b[0m, \u001b[38;5;34m1568\u001b[0m, \u001b[38;5;34m1\u001b[0m)        │             \u001b[38;5;34m0\u001b[0m │\n",
              "├─────────────────────────────────┼────────────────────────┼───────────────┤\n",
              "│ conv1d (\u001b[38;5;33mConv1D\u001b[0m)                 │ (\u001b[38;5;45mNone\u001b[0m, \u001b[38;5;34m1469\u001b[0m, \u001b[38;5;34m32\u001b[0m)       │         \u001b[38;5;34m3,232\u001b[0m │\n",
              "├─────────────────────────────────┼────────────────────────┼───────────────┤\n",
              "│ batch_normalization             │ (\u001b[38;5;45mNone\u001b[0m, \u001b[38;5;34m1469\u001b[0m, \u001b[38;5;34m32\u001b[0m)       │           \u001b[38;5;34m128\u001b[0m │\n",
              "│ (\u001b[38;5;33mBatchNormalization\u001b[0m)            │                        │               │\n",
              "├─────────────────────────────────┼────────────────────────┼───────────────┤\n",
              "│ activation (\u001b[38;5;33mActivation\u001b[0m)         │ (\u001b[38;5;45mNone\u001b[0m, \u001b[38;5;34m1469\u001b[0m, \u001b[38;5;34m32\u001b[0m)       │             \u001b[38;5;34m0\u001b[0m │\n",
              "├─────────────────────────────────┼────────────────────────┼───────────────┤\n",
              "│ max_pooling1d (\u001b[38;5;33mMaxPooling1D\u001b[0m)    │ (\u001b[38;5;45mNone\u001b[0m, \u001b[38;5;34m725\u001b[0m, \u001b[38;5;34m32\u001b[0m)        │             \u001b[38;5;34m0\u001b[0m │\n",
              "├─────────────────────────────────┼────────────────────────┼───────────────┤\n",
              "│ conv1d_1 (\u001b[38;5;33mConv1D\u001b[0m)               │ (\u001b[38;5;45mNone\u001b[0m, \u001b[38;5;34m626\u001b[0m, \u001b[38;5;34m32\u001b[0m)        │       \u001b[38;5;34m102,432\u001b[0m │\n",
              "├─────────────────────────────────┼────────────────────────┼───────────────┤\n",
              "│ batch_normalization_1           │ (\u001b[38;5;45mNone\u001b[0m, \u001b[38;5;34m626\u001b[0m, \u001b[38;5;34m32\u001b[0m)        │           \u001b[38;5;34m128\u001b[0m │\n",
              "│ (\u001b[38;5;33mBatchNormalization\u001b[0m)            │                        │               │\n",
              "├─────────────────────────────────┼────────────────────────┼───────────────┤\n",
              "│ activation_1 (\u001b[38;5;33mActivation\u001b[0m)       │ (\u001b[38;5;45mNone\u001b[0m, \u001b[38;5;34m626\u001b[0m, \u001b[38;5;34m32\u001b[0m)        │             \u001b[38;5;34m0\u001b[0m │\n",
              "├─────────────────────────────────┼────────────────────────┼───────────────┤\n",
              "│ max_pooling1d_1 (\u001b[38;5;33mMaxPooling1D\u001b[0m)  │ (\u001b[38;5;45mNone\u001b[0m, \u001b[38;5;34m304\u001b[0m, \u001b[38;5;34m32\u001b[0m)        │             \u001b[38;5;34m0\u001b[0m │\n",
              "├─────────────────────────────────┼────────────────────────┼───────────────┤\n",
              "│ conv1d_2 (\u001b[38;5;33mConv1D\u001b[0m)               │ (\u001b[38;5;45mNone\u001b[0m, \u001b[38;5;34m255\u001b[0m, \u001b[38;5;34m16\u001b[0m)        │        \u001b[38;5;34m25,616\u001b[0m │\n",
              "├─────────────────────────────────┼────────────────────────┼───────────────┤\n",
              "│ batch_normalization_2           │ (\u001b[38;5;45mNone\u001b[0m, \u001b[38;5;34m255\u001b[0m, \u001b[38;5;34m16\u001b[0m)        │            \u001b[38;5;34m64\u001b[0m │\n",
              "│ (\u001b[38;5;33mBatchNormalization\u001b[0m)            │                        │               │\n",
              "├─────────────────────────────────┼────────────────────────┼───────────────┤\n",
              "│ activation_2 (\u001b[38;5;33mActivation\u001b[0m)       │ (\u001b[38;5;45mNone\u001b[0m, \u001b[38;5;34m255\u001b[0m, \u001b[38;5;34m16\u001b[0m)        │             \u001b[38;5;34m0\u001b[0m │\n",
              "├─────────────────────────────────┼────────────────────────┼───────────────┤\n",
              "│ max_pooling1d_2 (\u001b[38;5;33mMaxPooling1D\u001b[0m)  │ (\u001b[38;5;45mNone\u001b[0m, \u001b[38;5;34m123\u001b[0m, \u001b[38;5;34m16\u001b[0m)        │             \u001b[38;5;34m0\u001b[0m │\n",
              "├─────────────────────────────────┼────────────────────────┼───────────────┤\n",
              "│ conv1d_3 (\u001b[38;5;33mConv1D\u001b[0m)               │ (\u001b[38;5;45mNone\u001b[0m, \u001b[38;5;34m74\u001b[0m, \u001b[38;5;34m16\u001b[0m)         │        \u001b[38;5;34m12,816\u001b[0m │\n",
              "├─────────────────────────────────┼────────────────────────┼───────────────┤\n",
              "│ batch_normalization_3           │ (\u001b[38;5;45mNone\u001b[0m, \u001b[38;5;34m74\u001b[0m, \u001b[38;5;34m16\u001b[0m)         │            \u001b[38;5;34m64\u001b[0m │\n",
              "│ (\u001b[38;5;33mBatchNormalization\u001b[0m)            │                        │               │\n",
              "├─────────────────────────────────┼────────────────────────┼───────────────┤\n",
              "│ activation_3 (\u001b[38;5;33mActivation\u001b[0m)       │ (\u001b[38;5;45mNone\u001b[0m, \u001b[38;5;34m74\u001b[0m, \u001b[38;5;34m16\u001b[0m)         │             \u001b[38;5;34m0\u001b[0m │\n",
              "├─────────────────────────────────┼────────────────────────┼───────────────┤\n",
              "│ max_pooling1d_3 (\u001b[38;5;33mMaxPooling1D\u001b[0m)  │ (\u001b[38;5;45mNone\u001b[0m, \u001b[38;5;34m33\u001b[0m, \u001b[38;5;34m16\u001b[0m)         │             \u001b[38;5;34m0\u001b[0m │\n",
              "├─────────────────────────────────┼────────────────────────┼───────────────┤\n",
              "│ conv1d_4 (\u001b[38;5;33mConv1D\u001b[0m)               │ (\u001b[38;5;45mNone\u001b[0m, \u001b[38;5;34m14\u001b[0m, \u001b[38;5;34m8\u001b[0m)          │         \u001b[38;5;34m2,568\u001b[0m │\n",
              "├─────────────────────────────────┼────────────────────────┼───────────────┤\n",
              "│ batch_normalization_4           │ (\u001b[38;5;45mNone\u001b[0m, \u001b[38;5;34m14\u001b[0m, \u001b[38;5;34m8\u001b[0m)          │            \u001b[38;5;34m32\u001b[0m │\n",
              "│ (\u001b[38;5;33mBatchNormalization\u001b[0m)            │                        │               │\n",
              "├─────────────────────────────────┼────────────────────────┼───────────────┤\n",
              "│ activation_4 (\u001b[38;5;33mActivation\u001b[0m)       │ (\u001b[38;5;45mNone\u001b[0m, \u001b[38;5;34m14\u001b[0m, \u001b[38;5;34m8\u001b[0m)          │             \u001b[38;5;34m0\u001b[0m │\n",
              "├─────────────────────────────────┼────────────────────────┼───────────────┤\n",
              "│ max_pooling1d_4 (\u001b[38;5;33mMaxPooling1D\u001b[0m)  │ (\u001b[38;5;45mNone\u001b[0m, \u001b[38;5;34m5\u001b[0m, \u001b[38;5;34m8\u001b[0m)           │             \u001b[38;5;34m0\u001b[0m │\n",
              "├─────────────────────────────────┼────────────────────────┼───────────────┤\n",
              "│ conv1d_5 (\u001b[38;5;33mConv1D\u001b[0m)               │ (\u001b[38;5;45mNone\u001b[0m, \u001b[38;5;34m4\u001b[0m, \u001b[38;5;34m5\u001b[0m)           │            \u001b[38;5;34m85\u001b[0m │\n",
              "├─────────────────────────────────┼────────────────────────┼───────────────┤\n",
              "│ batch_normalization_5           │ (\u001b[38;5;45mNone\u001b[0m, \u001b[38;5;34m4\u001b[0m, \u001b[38;5;34m5\u001b[0m)           │            \u001b[38;5;34m20\u001b[0m │\n",
              "│ (\u001b[38;5;33mBatchNormalization\u001b[0m)            │                        │               │\n",
              "├─────────────────────────────────┼────────────────────────┼───────────────┤\n",
              "│ activation_5 (\u001b[38;5;33mActivation\u001b[0m)       │ (\u001b[38;5;45mNone\u001b[0m, \u001b[38;5;34m4\u001b[0m, \u001b[38;5;34m5\u001b[0m)           │             \u001b[38;5;34m0\u001b[0m │\n",
              "├─────────────────────────────────┼────────────────────────┼───────────────┤\n",
              "│ max_pooling1d_5 (\u001b[38;5;33mMaxPooling1D\u001b[0m)  │ (\u001b[38;5;45mNone\u001b[0m, \u001b[38;5;34m1\u001b[0m, \u001b[38;5;34m5\u001b[0m)           │             \u001b[38;5;34m0\u001b[0m │\n",
              "├─────────────────────────────────┼────────────────────────┼───────────────┤\n",
              "│ Features (\u001b[38;5;33mFlatten\u001b[0m)              │ (\u001b[38;5;45mNone\u001b[0m, \u001b[38;5;34m5\u001b[0m)              │             \u001b[38;5;34m0\u001b[0m │\n",
              "├─────────────────────────────────┼────────────────────────┼───────────────┤\n",
              "│ dense (\u001b[38;5;33mDense\u001b[0m)                   │ (\u001b[38;5;45mNone\u001b[0m, \u001b[38;5;34m1\u001b[0m)              │             \u001b[38;5;34m6\u001b[0m │\n",
              "└─────────────────────────────────┴────────────────────────┴───────────────┘\n"
            ],
            "text/html": [
              "<pre style=\"white-space:pre;overflow-x:auto;line-height:normal;font-family:Menlo,'DejaVu Sans Mono',consolas,'Courier New',monospace\">┏━━━━━━━━━━━━━━━━━━━━━━━━━━━━━━━━━┳━━━━━━━━━━━━━━━━━━━━━━━━┳━━━━━━━━━━━━━━━┓\n",
              "┃<span style=\"font-weight: bold\"> Layer (type)                    </span>┃<span style=\"font-weight: bold\"> Output Shape           </span>┃<span style=\"font-weight: bold\">       Param # </span>┃\n",
              "┡━━━━━━━━━━━━━━━━━━━━━━━━━━━━━━━━━╇━━━━━━━━━━━━━━━━━━━━━━━━╇━━━━━━━━━━━━━━━┩\n",
              "│ input_layer (<span style=\"color: #0087ff; text-decoration-color: #0087ff\">InputLayer</span>)        │ (<span style=\"color: #00d7ff; text-decoration-color: #00d7ff\">None</span>, <span style=\"color: #00af00; text-decoration-color: #00af00\">1568</span>, <span style=\"color: #00af00; text-decoration-color: #00af00\">1</span>)        │             <span style=\"color: #00af00; text-decoration-color: #00af00\">0</span> │\n",
              "├─────────────────────────────────┼────────────────────────┼───────────────┤\n",
              "│ conv1d (<span style=\"color: #0087ff; text-decoration-color: #0087ff\">Conv1D</span>)                 │ (<span style=\"color: #00d7ff; text-decoration-color: #00d7ff\">None</span>, <span style=\"color: #00af00; text-decoration-color: #00af00\">1469</span>, <span style=\"color: #00af00; text-decoration-color: #00af00\">32</span>)       │         <span style=\"color: #00af00; text-decoration-color: #00af00\">3,232</span> │\n",
              "├─────────────────────────────────┼────────────────────────┼───────────────┤\n",
              "│ batch_normalization             │ (<span style=\"color: #00d7ff; text-decoration-color: #00d7ff\">None</span>, <span style=\"color: #00af00; text-decoration-color: #00af00\">1469</span>, <span style=\"color: #00af00; text-decoration-color: #00af00\">32</span>)       │           <span style=\"color: #00af00; text-decoration-color: #00af00\">128</span> │\n",
              "│ (<span style=\"color: #0087ff; text-decoration-color: #0087ff\">BatchNormalization</span>)            │                        │               │\n",
              "├─────────────────────────────────┼────────────────────────┼───────────────┤\n",
              "│ activation (<span style=\"color: #0087ff; text-decoration-color: #0087ff\">Activation</span>)         │ (<span style=\"color: #00d7ff; text-decoration-color: #00d7ff\">None</span>, <span style=\"color: #00af00; text-decoration-color: #00af00\">1469</span>, <span style=\"color: #00af00; text-decoration-color: #00af00\">32</span>)       │             <span style=\"color: #00af00; text-decoration-color: #00af00\">0</span> │\n",
              "├─────────────────────────────────┼────────────────────────┼───────────────┤\n",
              "│ max_pooling1d (<span style=\"color: #0087ff; text-decoration-color: #0087ff\">MaxPooling1D</span>)    │ (<span style=\"color: #00d7ff; text-decoration-color: #00d7ff\">None</span>, <span style=\"color: #00af00; text-decoration-color: #00af00\">725</span>, <span style=\"color: #00af00; text-decoration-color: #00af00\">32</span>)        │             <span style=\"color: #00af00; text-decoration-color: #00af00\">0</span> │\n",
              "├─────────────────────────────────┼────────────────────────┼───────────────┤\n",
              "│ conv1d_1 (<span style=\"color: #0087ff; text-decoration-color: #0087ff\">Conv1D</span>)               │ (<span style=\"color: #00d7ff; text-decoration-color: #00d7ff\">None</span>, <span style=\"color: #00af00; text-decoration-color: #00af00\">626</span>, <span style=\"color: #00af00; text-decoration-color: #00af00\">32</span>)        │       <span style=\"color: #00af00; text-decoration-color: #00af00\">102,432</span> │\n",
              "├─────────────────────────────────┼────────────────────────┼───────────────┤\n",
              "│ batch_normalization_1           │ (<span style=\"color: #00d7ff; text-decoration-color: #00d7ff\">None</span>, <span style=\"color: #00af00; text-decoration-color: #00af00\">626</span>, <span style=\"color: #00af00; text-decoration-color: #00af00\">32</span>)        │           <span style=\"color: #00af00; text-decoration-color: #00af00\">128</span> │\n",
              "│ (<span style=\"color: #0087ff; text-decoration-color: #0087ff\">BatchNormalization</span>)            │                        │               │\n",
              "├─────────────────────────────────┼────────────────────────┼───────────────┤\n",
              "│ activation_1 (<span style=\"color: #0087ff; text-decoration-color: #0087ff\">Activation</span>)       │ (<span style=\"color: #00d7ff; text-decoration-color: #00d7ff\">None</span>, <span style=\"color: #00af00; text-decoration-color: #00af00\">626</span>, <span style=\"color: #00af00; text-decoration-color: #00af00\">32</span>)        │             <span style=\"color: #00af00; text-decoration-color: #00af00\">0</span> │\n",
              "├─────────────────────────────────┼────────────────────────┼───────────────┤\n",
              "│ max_pooling1d_1 (<span style=\"color: #0087ff; text-decoration-color: #0087ff\">MaxPooling1D</span>)  │ (<span style=\"color: #00d7ff; text-decoration-color: #00d7ff\">None</span>, <span style=\"color: #00af00; text-decoration-color: #00af00\">304</span>, <span style=\"color: #00af00; text-decoration-color: #00af00\">32</span>)        │             <span style=\"color: #00af00; text-decoration-color: #00af00\">0</span> │\n",
              "├─────────────────────────────────┼────────────────────────┼───────────────┤\n",
              "│ conv1d_2 (<span style=\"color: #0087ff; text-decoration-color: #0087ff\">Conv1D</span>)               │ (<span style=\"color: #00d7ff; text-decoration-color: #00d7ff\">None</span>, <span style=\"color: #00af00; text-decoration-color: #00af00\">255</span>, <span style=\"color: #00af00; text-decoration-color: #00af00\">16</span>)        │        <span style=\"color: #00af00; text-decoration-color: #00af00\">25,616</span> │\n",
              "├─────────────────────────────────┼────────────────────────┼───────────────┤\n",
              "│ batch_normalization_2           │ (<span style=\"color: #00d7ff; text-decoration-color: #00d7ff\">None</span>, <span style=\"color: #00af00; text-decoration-color: #00af00\">255</span>, <span style=\"color: #00af00; text-decoration-color: #00af00\">16</span>)        │            <span style=\"color: #00af00; text-decoration-color: #00af00\">64</span> │\n",
              "│ (<span style=\"color: #0087ff; text-decoration-color: #0087ff\">BatchNormalization</span>)            │                        │               │\n",
              "├─────────────────────────────────┼────────────────────────┼───────────────┤\n",
              "│ activation_2 (<span style=\"color: #0087ff; text-decoration-color: #0087ff\">Activation</span>)       │ (<span style=\"color: #00d7ff; text-decoration-color: #00d7ff\">None</span>, <span style=\"color: #00af00; text-decoration-color: #00af00\">255</span>, <span style=\"color: #00af00; text-decoration-color: #00af00\">16</span>)        │             <span style=\"color: #00af00; text-decoration-color: #00af00\">0</span> │\n",
              "├─────────────────────────────────┼────────────────────────┼───────────────┤\n",
              "│ max_pooling1d_2 (<span style=\"color: #0087ff; text-decoration-color: #0087ff\">MaxPooling1D</span>)  │ (<span style=\"color: #00d7ff; text-decoration-color: #00d7ff\">None</span>, <span style=\"color: #00af00; text-decoration-color: #00af00\">123</span>, <span style=\"color: #00af00; text-decoration-color: #00af00\">16</span>)        │             <span style=\"color: #00af00; text-decoration-color: #00af00\">0</span> │\n",
              "├─────────────────────────────────┼────────────────────────┼───────────────┤\n",
              "│ conv1d_3 (<span style=\"color: #0087ff; text-decoration-color: #0087ff\">Conv1D</span>)               │ (<span style=\"color: #00d7ff; text-decoration-color: #00d7ff\">None</span>, <span style=\"color: #00af00; text-decoration-color: #00af00\">74</span>, <span style=\"color: #00af00; text-decoration-color: #00af00\">16</span>)         │        <span style=\"color: #00af00; text-decoration-color: #00af00\">12,816</span> │\n",
              "├─────────────────────────────────┼────────────────────────┼───────────────┤\n",
              "│ batch_normalization_3           │ (<span style=\"color: #00d7ff; text-decoration-color: #00d7ff\">None</span>, <span style=\"color: #00af00; text-decoration-color: #00af00\">74</span>, <span style=\"color: #00af00; text-decoration-color: #00af00\">16</span>)         │            <span style=\"color: #00af00; text-decoration-color: #00af00\">64</span> │\n",
              "│ (<span style=\"color: #0087ff; text-decoration-color: #0087ff\">BatchNormalization</span>)            │                        │               │\n",
              "├─────────────────────────────────┼────────────────────────┼───────────────┤\n",
              "│ activation_3 (<span style=\"color: #0087ff; text-decoration-color: #0087ff\">Activation</span>)       │ (<span style=\"color: #00d7ff; text-decoration-color: #00d7ff\">None</span>, <span style=\"color: #00af00; text-decoration-color: #00af00\">74</span>, <span style=\"color: #00af00; text-decoration-color: #00af00\">16</span>)         │             <span style=\"color: #00af00; text-decoration-color: #00af00\">0</span> │\n",
              "├─────────────────────────────────┼────────────────────────┼───────────────┤\n",
              "│ max_pooling1d_3 (<span style=\"color: #0087ff; text-decoration-color: #0087ff\">MaxPooling1D</span>)  │ (<span style=\"color: #00d7ff; text-decoration-color: #00d7ff\">None</span>, <span style=\"color: #00af00; text-decoration-color: #00af00\">33</span>, <span style=\"color: #00af00; text-decoration-color: #00af00\">16</span>)         │             <span style=\"color: #00af00; text-decoration-color: #00af00\">0</span> │\n",
              "├─────────────────────────────────┼────────────────────────┼───────────────┤\n",
              "│ conv1d_4 (<span style=\"color: #0087ff; text-decoration-color: #0087ff\">Conv1D</span>)               │ (<span style=\"color: #00d7ff; text-decoration-color: #00d7ff\">None</span>, <span style=\"color: #00af00; text-decoration-color: #00af00\">14</span>, <span style=\"color: #00af00; text-decoration-color: #00af00\">8</span>)          │         <span style=\"color: #00af00; text-decoration-color: #00af00\">2,568</span> │\n",
              "├─────────────────────────────────┼────────────────────────┼───────────────┤\n",
              "│ batch_normalization_4           │ (<span style=\"color: #00d7ff; text-decoration-color: #00d7ff\">None</span>, <span style=\"color: #00af00; text-decoration-color: #00af00\">14</span>, <span style=\"color: #00af00; text-decoration-color: #00af00\">8</span>)          │            <span style=\"color: #00af00; text-decoration-color: #00af00\">32</span> │\n",
              "│ (<span style=\"color: #0087ff; text-decoration-color: #0087ff\">BatchNormalization</span>)            │                        │               │\n",
              "├─────────────────────────────────┼────────────────────────┼───────────────┤\n",
              "│ activation_4 (<span style=\"color: #0087ff; text-decoration-color: #0087ff\">Activation</span>)       │ (<span style=\"color: #00d7ff; text-decoration-color: #00d7ff\">None</span>, <span style=\"color: #00af00; text-decoration-color: #00af00\">14</span>, <span style=\"color: #00af00; text-decoration-color: #00af00\">8</span>)          │             <span style=\"color: #00af00; text-decoration-color: #00af00\">0</span> │\n",
              "├─────────────────────────────────┼────────────────────────┼───────────────┤\n",
              "│ max_pooling1d_4 (<span style=\"color: #0087ff; text-decoration-color: #0087ff\">MaxPooling1D</span>)  │ (<span style=\"color: #00d7ff; text-decoration-color: #00d7ff\">None</span>, <span style=\"color: #00af00; text-decoration-color: #00af00\">5</span>, <span style=\"color: #00af00; text-decoration-color: #00af00\">8</span>)           │             <span style=\"color: #00af00; text-decoration-color: #00af00\">0</span> │\n",
              "├─────────────────────────────────┼────────────────────────┼───────────────┤\n",
              "│ conv1d_5 (<span style=\"color: #0087ff; text-decoration-color: #0087ff\">Conv1D</span>)               │ (<span style=\"color: #00d7ff; text-decoration-color: #00d7ff\">None</span>, <span style=\"color: #00af00; text-decoration-color: #00af00\">4</span>, <span style=\"color: #00af00; text-decoration-color: #00af00\">5</span>)           │            <span style=\"color: #00af00; text-decoration-color: #00af00\">85</span> │\n",
              "├─────────────────────────────────┼────────────────────────┼───────────────┤\n",
              "│ batch_normalization_5           │ (<span style=\"color: #00d7ff; text-decoration-color: #00d7ff\">None</span>, <span style=\"color: #00af00; text-decoration-color: #00af00\">4</span>, <span style=\"color: #00af00; text-decoration-color: #00af00\">5</span>)           │            <span style=\"color: #00af00; text-decoration-color: #00af00\">20</span> │\n",
              "│ (<span style=\"color: #0087ff; text-decoration-color: #0087ff\">BatchNormalization</span>)            │                        │               │\n",
              "├─────────────────────────────────┼────────────────────────┼───────────────┤\n",
              "│ activation_5 (<span style=\"color: #0087ff; text-decoration-color: #0087ff\">Activation</span>)       │ (<span style=\"color: #00d7ff; text-decoration-color: #00d7ff\">None</span>, <span style=\"color: #00af00; text-decoration-color: #00af00\">4</span>, <span style=\"color: #00af00; text-decoration-color: #00af00\">5</span>)           │             <span style=\"color: #00af00; text-decoration-color: #00af00\">0</span> │\n",
              "├─────────────────────────────────┼────────────────────────┼───────────────┤\n",
              "│ max_pooling1d_5 (<span style=\"color: #0087ff; text-decoration-color: #0087ff\">MaxPooling1D</span>)  │ (<span style=\"color: #00d7ff; text-decoration-color: #00d7ff\">None</span>, <span style=\"color: #00af00; text-decoration-color: #00af00\">1</span>, <span style=\"color: #00af00; text-decoration-color: #00af00\">5</span>)           │             <span style=\"color: #00af00; text-decoration-color: #00af00\">0</span> │\n",
              "├─────────────────────────────────┼────────────────────────┼───────────────┤\n",
              "│ Features (<span style=\"color: #0087ff; text-decoration-color: #0087ff\">Flatten</span>)              │ (<span style=\"color: #00d7ff; text-decoration-color: #00d7ff\">None</span>, <span style=\"color: #00af00; text-decoration-color: #00af00\">5</span>)              │             <span style=\"color: #00af00; text-decoration-color: #00af00\">0</span> │\n",
              "├─────────────────────────────────┼────────────────────────┼───────────────┤\n",
              "│ dense (<span style=\"color: #0087ff; text-decoration-color: #0087ff\">Dense</span>)                   │ (<span style=\"color: #00d7ff; text-decoration-color: #00d7ff\">None</span>, <span style=\"color: #00af00; text-decoration-color: #00af00\">1</span>)              │             <span style=\"color: #00af00; text-decoration-color: #00af00\">6</span> │\n",
              "└─────────────────────────────────┴────────────────────────┴───────────────┘\n",
              "</pre>\n"
            ]
          },
          "metadata": {}
        },
        {
          "output_type": "display_data",
          "data": {
            "text/plain": [
              "\u001b[1m Total params: \u001b[0m\u001b[38;5;34m147,191\u001b[0m (574.96 KB)\n"
            ],
            "text/html": [
              "<pre style=\"white-space:pre;overflow-x:auto;line-height:normal;font-family:Menlo,'DejaVu Sans Mono',consolas,'Courier New',monospace\"><span style=\"font-weight: bold\"> Total params: </span><span style=\"color: #00af00; text-decoration-color: #00af00\">147,191</span> (574.96 KB)\n",
              "</pre>\n"
            ]
          },
          "metadata": {}
        },
        {
          "output_type": "display_data",
          "data": {
            "text/plain": [
              "\u001b[1m Trainable params: \u001b[0m\u001b[38;5;34m146,973\u001b[0m (574.11 KB)\n"
            ],
            "text/html": [
              "<pre style=\"white-space:pre;overflow-x:auto;line-height:normal;font-family:Menlo,'DejaVu Sans Mono',consolas,'Courier New',monospace\"><span style=\"font-weight: bold\"> Trainable params: </span><span style=\"color: #00af00; text-decoration-color: #00af00\">146,973</span> (574.11 KB)\n",
              "</pre>\n"
            ]
          },
          "metadata": {}
        },
        {
          "output_type": "display_data",
          "data": {
            "text/plain": [
              "\u001b[1m Non-trainable params: \u001b[0m\u001b[38;5;34m218\u001b[0m (872.00 B)\n"
            ],
            "text/html": [
              "<pre style=\"white-space:pre;overflow-x:auto;line-height:normal;font-family:Menlo,'DejaVu Sans Mono',consolas,'Courier New',monospace\"><span style=\"font-weight: bold\"> Non-trainable params: </span><span style=\"color: #00af00; text-decoration-color: #00af00\">218</span> (872.00 B)\n",
              "</pre>\n"
            ]
          },
          "metadata": {}
        }
      ]
    },
    {
      "cell_type": "code",
      "source": [
        "# Model: compile, summary & fit\n",
        "model.compile(loss='mse', optimizer=Adam(learning_rate=0.001))\n",
        "earlystop = EarlyStopping(monitor='val_loss', min_delta=0, patience=10,verbose=1, mode='auto')  #Stops when accuracy is no longer changing\n",
        "checkpoint = ModelCheckpoint('/content/drive/My Drive/Colab Notebooks/p5270/XAI/Attention_Layer/Check1.keras', monitor='val_loss', verbose=1, save_best_only=True, mode='min')  #Saves best model so far\n",
        "callbacks_list = [earlystop, checkpoint]\n",
        "\n",
        "\n",
        "history = model.fit(X_train, Y_train, batch_size=32, epochs=10, verbose=10, callbacks=callbacks_list, validation_data=(X_val, Y_val))\n",
        "\n",
        "plt.plot(history.history['loss'], label='train')\n",
        "plt.plot(history.history['val_loss'], label='val')\n",
        "plt.legend()\n",
        "plt.show()"
      ],
      "metadata": {
        "id": "0_9qjvKBYU3m",
        "colab": {
          "base_uri": "https://localhost:8080/",
          "height": 955
        },
        "outputId": "f39a3a6b-f0b1-4129-8fd9-c2aa35974182"
      },
      "execution_count": null,
      "outputs": [
        {
          "output_type": "stream",
          "name": "stdout",
          "text": [
            "Epoch 1/10\n",
            "\n",
            "Epoch 1: val_loss improved from inf to 4.61747, saving model to /content/drive/My Drive/Colab Notebooks/p5270/XAI/Attention_Layer/Check1.keras\n",
            "Epoch 2/10\n",
            "\n",
            "Epoch 2: val_loss improved from 4.61747 to 2.19285, saving model to /content/drive/My Drive/Colab Notebooks/p5270/XAI/Attention_Layer/Check1.keras\n",
            "Epoch 3/10\n",
            "\n",
            "Epoch 3: val_loss did not improve from 2.19285\n",
            "Epoch 4/10\n",
            "\n",
            "Epoch 4: val_loss improved from 2.19285 to 1.01008, saving model to /content/drive/My Drive/Colab Notebooks/p5270/XAI/Attention_Layer/Check1.keras\n",
            "Epoch 5/10\n",
            "\n",
            "Epoch 5: val_loss did not improve from 1.01008\n",
            "Epoch 6/10\n",
            "\n",
            "Epoch 6: val_loss improved from 1.01008 to 0.04361, saving model to /content/drive/My Drive/Colab Notebooks/p5270/XAI/Attention_Layer/Check1.keras\n",
            "Epoch 7/10\n",
            "\n",
            "Epoch 7: val_loss improved from 0.04361 to 0.02802, saving model to /content/drive/My Drive/Colab Notebooks/p5270/XAI/Attention_Layer/Check1.keras\n",
            "Epoch 8/10\n",
            "\n",
            "Epoch 8: val_loss did not improve from 0.02802\n",
            "Epoch 9/10\n",
            "\n",
            "Epoch 9: val_loss did not improve from 0.02802\n",
            "Epoch 10/10\n",
            "\n",
            "Epoch 10: val_loss did not improve from 0.02802\n"
          ]
        },
        {
          "output_type": "display_data",
          "data": {
            "text/plain": [
              "<Figure size 640x480 with 1 Axes>"
            ],
            "image/png": "[encoded data removed]"
          },
          "metadata": {}
        }
      ]
    },
    {
      "cell_type": "code",
      "source": [
        "# Evaluate the model\n",
        "# Backward-looking averaing of 10 obervations\n",
        "\n",
        "# Training\n",
        "y_predTrain = model.predict(X_train)\n",
        "y_predTrain = pd.DataFrame(y_predTrain)\n",
        "train_r2 = r2_score(Y_train, y_predTrain)\n",
        "train_rmse = np.sqrt(mean_squared_error(Y_train, y_predTrain))\n",
        "\n",
        "# #Validation\n",
        "y_predVal = model.predict(X_val)\n",
        "y_predVal = pd.DataFrame(y_predVal)\n",
        "val_r2 = r2_score(Y_val, y_predVal)\n",
        "val_rmse = np.sqrt(mean_squared_error(Y_val, y_predVal))\n",
        "\n",
        "# # Testing\n",
        "start_time = time.time()\n",
        "y_predTest = model.predict(x_test)\n",
        "y_predTest = pd.DataFrame(y_predTest)\n",
        "end_time = time.time()\n",
        "test_r2 = r2_score(y_test, y_predTest)\n",
        "test_rmse = np.sqrt(mean_squared_error(y_test, y_predTest))\n",
        "\n",
        "# Print scores\n",
        "print(\"R^2 scores: \", train_r2, val_r2, test_r2)\n",
        "print(\"RMSE: \", train_rmse, val_rmse, test_rmse)"
      ],
      "metadata": {
        "colab": {
          "base_uri": "https://localhost:8080/"
        },
        "id": "_RHc7ymnOaEI",
        "outputId": "bb332c7b-4368-49b1-9415-14e6f8f47bdc"
      },
      "execution_count": null,
      "outputs": [
        {
          "output_type": "stream",
          "name": "stdout",
          "text": [
            "\u001b[1m2896/2896\u001b[0m \u001b[32m━━━━━━━━━━━━━━━━━━━━\u001b[0m\u001b[37m\u001b[0m \u001b[1m11s\u001b[0m 3ms/step\n",
            "\u001b[1m414/414\u001b[0m \u001b[32m━━━━━━━━━━━━━━━━━━━━\u001b[0m\u001b[37m\u001b[0m \u001b[1m2s\u001b[0m 4ms/step\n",
            "\u001b[1m828/828\u001b[0m \u001b[32m━━━━━━━━━━━━━━━━━━━━\u001b[0m\u001b[37m\u001b[0m \u001b[1m3s\u001b[0m 4ms/step\n",
            "R^2 scores:  -13.28481619634115 -5.642373220597265 -8.008856993094119\n",
            "RMSE:  0.48267114042191406 0.3787250878091647 0.43465077768318877\n"
          ]
        }
      ]
    },
    {
      "cell_type": "code",
      "metadata": {
        "id": "nIaIj3i-tODV",
        "colab": {
          "base_uri": "https://localhost:8080/"
        },
        "outputId": "a12b5945-d652-402c-e37e-318edfd28c88"
      },
      "source": [
        "# # Extracted features (training set)\n",
        "\n",
        "intermediate_layer_model = Model(inputs=model.input, outputs=model.get_layer('Features').output)\n",
        "intermediate_output_train = intermediate_layer_model.predict(X_train)\n",
        "# print(intermediate_output.shape)\n",
        "# for i in range(0,intermediate_output.shape[1], 50):\n",
        "#   fig = plt.figure(i, figsize=(20,4))\n",
        "#   mc = pd.DataFrame(intermediate_output[:,i]).rolling(10, min_periods=1).mean().astype('float32')\n",
        "#   plt.plot(mc)\n",
        "#   plt.ylabel('Feature')\n",
        "\n",
        "# savetxt('training_features.csv', intermediate_output, delimiter=',')\n",
        "# files.download('training_features.csv')"
      ],
      "execution_count": null,
      "outputs": [
        {
          "output_type": "stream",
          "name": "stdout",
          "text": [
            "\u001b[1m2896/2896\u001b[0m \u001b[32m━━━━━━━━━━━━━━━━━━━━\u001b[0m\u001b[37m\u001b[0m \u001b[1m11s\u001b[0m 4ms/step\n"
          ]
        }
      ]
    },
    {
      "cell_type": "code",
      "metadata": {
        "id": "kri7aa5j5q7u",
        "colab": {
          "base_uri": "https://localhost:8080/"
        },
        "outputId": "5621067f-b2de-414f-f44e-9cc22bcee2e3"
      },
      "source": [
        "# # Extracted features (validation set)\n",
        "\n",
        "intermediate_layer_model = Model(inputs=model.input, outputs=model.get_layer('Features').output)\n",
        "intermediate_output_val = intermediate_layer_model.predict(X_val)\n",
        "# print(intermediate_output.shape)\n",
        "# for i in range(0,intermediate_output.shape[1], 50):\n",
        "#   fig = plt.figure(i, figsize=(20,4))\n",
        "#   mc = pd.DataFrame(intermediate_output[:,i]).rolling(10, min_periods=1).mean().astype('float32')\n",
        "#   plt.plot(mc)\n",
        "#   plt.ylabel('Feature')\n",
        "\n",
        "# savetxt('validation_features.csv', intermediate_output, delimiter=',')\n",
        "# files.download('validation_features.csv')"
      ],
      "execution_count": null,
      "outputs": [
        {
          "output_type": "stream",
          "name": "stdout",
          "text": [
            "\u001b[1m414/414\u001b[0m \u001b[32m━━━━━━━━━━━━━━━━━━━━\u001b[0m\u001b[37m\u001b[0m \u001b[1m2s\u001b[0m 4ms/step\n"
          ]
        }
      ]
    },
    {
      "cell_type": "code",
      "metadata": {
        "id": "HJ9Tw1d9tdjt",
        "colab": {
          "base_uri": "https://localhost:8080/"
        },
        "outputId": "e7758dc7-86b5-4d99-ec8f-dfed32f917b4"
      },
      "source": [
        "# # Extracted features (test set)\n",
        "\n",
        "intermediate_layer_model = Model(inputs=model.input, outputs=model.get_layer('Features').output)\n",
        "intermediate_output_test = intermediate_layer_model.predict(x_test)\n",
        "# print(intermediate_output.shape)\n",
        "# for i in range(0,intermediate_output.shape[1], 50):\n",
        "#   fig = plt.figure(i, figsize=(20,4))\n",
        "#   mc = pd.DataFrame(intermediate_output[:,i]).rolling(10, min_periods=1).mean().astype('float32')\n",
        "#   plt.plot(mc)\n",
        "#   plt.ylabel('Feature')\n",
        "\n",
        "# savetxt('testing_features.csv', intermediate_output, delimiter=',')\n",
        "# files.download('testing_features.csv')"
      ],
      "execution_count": null,
      "outputs": [
        {
          "output_type": "stream",
          "name": "stdout",
          "text": [
            "\u001b[1m828/828\u001b[0m \u001b[32m━━━━━━━━━━━━━━━━━━━━\u001b[0m\u001b[37m\u001b[0m \u001b[1m3s\u001b[0m 4ms/step\n"
          ]
        }
      ]
    },
    {
      "cell_type": "code",
      "source": [
        "Amp_Feature = np.vstack((intermediate_output_train, intermediate_output_val, intermediate_output_test))\n",
        "print(Amp_Feature.shape)"
      ],
      "metadata": {
        "id": "bSuWt-zbqNGj",
        "colab": {
          "base_uri": "https://localhost:8080/"
        },
        "outputId": "16dd8bfc-79e0-4f08-8cbd-42be71e7d966"
      },
      "execution_count": null,
      "outputs": [
        {
          "output_type": "stream",
          "name": "stdout",
          "text": [
            "(132376, 5)\n"
          ]
        }
      ]
    },
    {
      "cell_type": "code",
      "source": [
        "ydf_new = ydf.to_numpy()\n",
        "print(ydf_new.shape)"
      ],
      "metadata": {
        "id": "MWOHJseLsHYI",
        "colab": {
          "base_uri": "https://localhost:8080/"
        },
        "outputId": "3c1b5f6b-ad4d-470a-dcf2-667f6fa1c084"
      },
      "execution_count": null,
      "outputs": [
        {
          "output_type": "stream",
          "name": "stdout",
          "text": [
            "(132376, 1)\n"
          ]
        }
      ]
    },
    {
      "cell_type": "code",
      "source": [
        "df_SS = np.hstack((Amp_Feature, ydf_new))\n",
        "print(df_SS.shape)"
      ],
      "metadata": {
        "id": "PMx_FyaosHaz",
        "colab": {
          "base_uri": "https://localhost:8080/"
        },
        "outputId": "0d4b9490-5736-4d2f-caae-278cf69bff79"
      },
      "execution_count": null,
      "outputs": [
        {
          "output_type": "stream",
          "name": "stdout",
          "text": [
            "(132376, 6)\n"
          ]
        }
      ]
    },
    {
      "cell_type": "code",
      "source": [
        "savetxt('Features_SS.csv', df_SS, delimiter=',')\n",
        "files.download('Features_SS.csv')"
      ],
      "metadata": {
        "colab": {
          "base_uri": "https://localhost:8080/",
          "height": 17
        },
        "id": "YarHsMVIMggt",
        "outputId": "5154f541-2794-480a-efcb-fb4bb873b0f9"
      },
      "execution_count": null,
      "outputs": [
        {
          "output_type": "display_data",
          "data": {
            "text/plain": [
              "<IPython.core.display.Javascript object>"
            ],
            "application/javascript": [
              "\n",
              "    async function download(id, filename, size) {\n",
              "      if (!google.colab.kernel.accessAllowed) {\n",
              "        return;\n",
              "      }\n",
              "      const div = document.createElement('div');\n",
              "      const label = document.createElement('label');\n",
              "      label.textContent = `Downloading \"${filename}\": `;\n",
              "      div.appendChild(label);\n",
              "      const progress = document.createElement('progress');\n",
              "      progress.max = size;\n",
              "      div.appendChild(progress);\n",
              "      document.body.appendChild(div);\n",
              "\n",
              "      const buffers = [];\n",
              "      let downloaded = 0;\n",
              "\n",
              "      const channel = await google.colab.kernel.comms.open(id);\n",
              "      // Send a message to notify the kernel that we're ready.\n",
              "      channel.send({})\n",
              "\n",
              "      for await (const message of channel.messages) {\n",
              "        // Send a message to notify the kernel that we're ready.\n",
              "        channel.send({})\n",
              "        if (message.buffers) {\n",
              "          for (const buffer of message.buffers) {\n",
              "            buffers.push(buffer);\n",
              "            downloaded += buffer.byteLength;\n",
              "            progress.value = downloaded;\n",
              "          }\n",
              "        }\n",
              "      }\n",
              "      const blob = new Blob(buffers, {type: 'application/binary'});\n",
              "      const a = document.createElement('a');\n",
              "      a.href = window.URL.createObjectURL(blob);\n",
              "      a.download = filename;\n",
              "      div.appendChild(a);\n",
              "      a.click();\n",
              "      div.remove();\n",
              "    }\n",
              "  "
            ]
          },
          "metadata": {}
        },
        {
          "output_type": "display_data",
          "data": {
            "text/plain": [
              "<IPython.core.display.Javascript object>"
            ],
            "application/javascript": [
              "download(\"download_3164ed89-b922-4198-94e2-ed63907f0e60\", \"Features_SS.csv\", 20065493)"
            ]
          },
          "metadata": {}
        }
      ]
    }
  ]
}