{
  "nbformat": 4,
  "nbformat_minor": 0,
  "metadata": {
    "colab": {
      "provenance": []
    },
    "kernelspec": {
      "name": "python3",
      "display_name": "Python 3"
    },
    "language_info": {
      "name": "python"
    }
  },
  "cells": [
    {
      "cell_type": "code",
      "execution_count": null,
      "metadata": {
        "id": "4XGCve0bhxHd"
      },
      "outputs": [],
      "source": [
        "# Load libraries\n",
        "import math\n",
        "import sys\n",
        "import h5py\n",
        "import pandas as pd\n",
        "import numpy as np\n",
        "from numpy.fft import fft, ifft\n",
        "from scipy import interpolate\n",
        "import matplotlib.pyplot as plt\n",
        "import pywt\n",
        "from scipy.io import loadmat, savemat\n",
        "from scipy import signal\n",
        "from tensorflow.keras.optimizers import Adam, SGD\n",
        "import tensorflow as tf\n",
        "import keras.backend as K\n",
        "from keras.models import Sequential,  Model\n",
        "from keras.layers import Dense, LSTM, TimeDistributed, Flatten, Bidirectional, Input\n",
        "from tensorflow.keras import layers\n",
        "from tensorflow import keras\n",
        "from keras.layers import MaxPooling2D, Conv2D, MaxPooling1D, Conv1D, Dense, Flatten, AveragePooling1D, LSTM, Dropout, Input, Concatenate, LeakyReLU, BatchNormalization, Activation\n",
        "import time\n",
        "from sklearn.preprocessing import MinMaxScaler\n",
        "from sklearn.model_selection import GridSearchCV\n",
        "from sklearn.metrics import r2_score, mean_squared_error\n",
        "from sklearn.model_selection import train_test_split\n",
        "from sklearn.preprocessing import minmax_scale\n",
        "from keras.callbacks import EarlyStopping\n",
        "from keras.callbacks import ModelCheckpoint\n",
        "from keras.models import load_model\n",
        "from google.colab import files\n",
        "from numpy import savetxt\n",
        "from keras.layers import Layer\n",
        "from xgboost import XGBRegressor\n",
        "from matplotlib import pyplot\n",
        "np.random.seed(0)\n",
        "tf.random.set_seed(0)"
      ]
    },
    {
      "cell_type": "code",
      "source": [
        "# Mount drive\n",
        "from google.colab import drive\n",
        "drive.mount('/content/drive')"
      ],
      "metadata": {
        "colab": {
          "base_uri": "https://localhost:8080/"
        },
        "id": "UB8SOSYBh2OH",
        "outputId": "c021d1f9-3021-4085-9854-6b7e5bfd6a95"
      },
      "execution_count": null,
      "outputs": [
        {
          "output_type": "stream",
          "name": "stdout",
          "text": [
            "Mounted at /content/drive\n"
          ]
        }
      ]
    },
    {
      "cell_type": "code",
      "source": [
        "# Load the data\n",
        "data1 = loadmat('/content/drive/My Drive/Colab Notebooks/Final_Features_Extraction_Codes/XPG/Physics_Guided_WA_No_Regularizer/Input_Output_Data_XPG_No_Reg.mat')\n",
        "df = pd.DataFrame({'F1':data1['F1'].flatten().round(2),'SS':data1['SS'].flatten()})\n",
        "df = df[['F1','SS']]"
      ],
      "metadata": {
        "id": "MWa4Rtnlh-_K"
      },
      "execution_count": null,
      "outputs": []
    },
    {
      "cell_type": "code",
      "source": [
        "# Function: Create Data History\n",
        "def create_timesteps(data, n_steps):\n",
        "\tx = []\n",
        "\ty = []\n",
        "\tfor i in range(len(data)-1):\n",
        "\t\tend_ix = i + n_steps\n",
        "\t\tif end_ix > len(data)-1:\n",
        "\t\t\tbreak\n",
        "\t\tx1, y1 = data[i:end_ix, :-1], data[end_ix, -1]\n",
        "\t\tx.append(x1)\n",
        "\t\ty.append(y1)\n",
        "\treturn np.array(x), np.array(y)"
      ],
      "metadata": {
        "id": "h5vfBgz0l4j9"
      },
      "execution_count": null,
      "outputs": []
    },
    {
      "cell_type": "code",
      "source": [
        "# Preprocessing (SS)\n",
        "arr = df.to_numpy()\n",
        "n_steps = 300\n",
        "xdf, ydf_SS = create_timesteps(arr, n_steps)\n",
        "\n",
        "# Reshape\n",
        "in_dim = xdf.shape[1]*xdf.shape[2]\n",
        "xdf = xdf.reshape((xdf.shape[0], in_dim))"
      ],
      "metadata": {
        "id": "DtAHOd5ti5XC"
      },
      "execution_count": null,
      "outputs": []
    },
    {
      "cell_type": "code",
      "source": [
        "# Split into train-val-test (SS)\n",
        "x_train, x_test, y_train_SS, y_test_SS = train_test_split(xdf, ydf_SS, test_size=0.2, shuffle=False)\n",
        "X_train, X_val, Y_train_SS, Y_val_SS = train_test_split(x_train, y_train_SS, test_size=0.125, shuffle=False)\n",
        "\n",
        "# Normalize the input\n",
        "scaler = MinMaxScaler()\n",
        "X_train = pd.DataFrame(scaler.fit_transform(X_train))\n",
        "X_val = pd.DataFrame(scaler.transform(X_val))\n",
        "x_test = pd.DataFrame(scaler.transform(x_test))"
      ],
      "metadata": {
        "id": "r-d2oomEjCj6"
      },
      "execution_count": null,
      "outputs": []
    },
    {
      "cell_type": "code",
      "source": [
        "## Define DD\n",
        "def MLP_Data():\n",
        "\n",
        "    # Define inputs\n",
        "    X_train = layers.Input(shape=(n_steps,),name='X_train')\n",
        "\n",
        "    # Prediction: Shear Stress + Slip Rate\n",
        "    x = layers.Dense(128,kernel_initializer = 'normal', activation=\"relu\")(X_train)\n",
        "    x = layers.Dense(64,kernel_initializer = 'normal', activation=\"relu\")(x)\n",
        "    x = layers.Dense(32,kernel_initializer = 'normal', activation=\"relu\")(x)\n",
        "    ss_pred = layers.Dense(1,kernel_initializer = 'normal',activation=\"linear\")(x)\n",
        "\n",
        "    model = keras.Model(inputs=[X_train],outputs=[ss_pred])\n",
        "    return model"
      ],
      "metadata": {
        "id": "RsONpQH3jT22"
      },
      "execution_count": null,
      "outputs": []
    },
    {
      "cell_type": "code",
      "source": [
        "model = MLP_Data()\n",
        "model.summary()"
      ],
      "metadata": {
        "id": "s29UGjtsjXRa",
        "colab": {
          "base_uri": "https://localhost:8080/",
          "height": 289
        },
        "outputId": "520b1c6a-4c15-454d-b3d4-6532f218638c"
      },
      "execution_count": null,
      "outputs": [
        {
          "output_type": "display_data",
          "data": {
            "text/plain": [
              "\u001b[1mModel: \"functional\"\u001b[0m\n"
            ],
            "text/html": [
              "<pre style=\"white-space:pre;overflow-x:auto;line-height:normal;font-family:Menlo,'DejaVu Sans Mono',consolas,'Courier New',monospace\"><span style=\"font-weight: bold\">Model: \"functional\"</span>\n",
              "</pre>\n"
            ]
          },
          "metadata": {}
        },
        {
          "output_type": "display_data",
          "data": {
            "text/plain": [
              "┏━━━━━━━━━━━━━━━━━━━━━━━━━━━━━━━━━┳━━━━━━━━━━━━━━━━━━━━━━━━┳━━━━━━━━━━━━━━━┓\n",
              "┃\u001b[1m \u001b[0m\u001b[1mLayer (type)                   \u001b[0m\u001b[1m \u001b[0m┃\u001b[1m \u001b[0m\u001b[1mOutput Shape          \u001b[0m\u001b[1m \u001b[0m┃\u001b[1m \u001b[0m\u001b[1m      Param #\u001b[0m\u001b[1m \u001b[0m┃\n",
              "┡━━━━━━━━━━━━━━━━━━━━━━━━━━━━━━━━━╇━━━━━━━━━━━━━━━━━━━━━━━━╇━━━━━━━━━━━━━━━┩\n",
              "│ X_train (\u001b[38;5;33mInputLayer\u001b[0m)            │ (\u001b[38;5;45mNone\u001b[0m, \u001b[38;5;34m300\u001b[0m)            │             \u001b[38;5;34m0\u001b[0m │\n",
              "├─────────────────────────────────┼────────────────────────┼───────────────┤\n",
              "│ dense (\u001b[38;5;33mDense\u001b[0m)                   │ (\u001b[38;5;45mNone\u001b[0m, \u001b[38;5;34m128\u001b[0m)            │        \u001b[38;5;34m38,528\u001b[0m │\n",
              "├─────────────────────────────────┼────────────────────────┼───────────────┤\n",
              "│ dense_1 (\u001b[38;5;33mDense\u001b[0m)                 │ (\u001b[38;5;45mNone\u001b[0m, \u001b[38;5;34m64\u001b[0m)             │         \u001b[38;5;34m8,256\u001b[0m │\n",
              "├─────────────────────────────────┼────────────────────────┼───────────────┤\n",
              "│ dense_2 (\u001b[38;5;33mDense\u001b[0m)                 │ (\u001b[38;5;45mNone\u001b[0m, \u001b[38;5;34m32\u001b[0m)             │         \u001b[38;5;34m2,080\u001b[0m │\n",
              "├─────────────────────────────────┼────────────────────────┼───────────────┤\n",
              "│ dense_3 (\u001b[38;5;33mDense\u001b[0m)                 │ (\u001b[38;5;45mNone\u001b[0m, \u001b[38;5;34m1\u001b[0m)              │            \u001b[38;5;34m33\u001b[0m │\n",
              "└─────────────────────────────────┴────────────────────────┴───────────────┘\n"
            ],
            "text/html": [
              "<pre style=\"white-space:pre;overflow-x:auto;line-height:normal;font-family:Menlo,'DejaVu Sans Mono',consolas,'Courier New',monospace\">┏━━━━━━━━━━━━━━━━━━━━━━━━━━━━━━━━━┳━━━━━━━━━━━━━━━━━━━━━━━━┳━━━━━━━━━━━━━━━┓\n",
              "┃<span style=\"font-weight: bold\"> Layer (type)                    </span>┃<span style=\"font-weight: bold\"> Output Shape           </span>┃<span style=\"font-weight: bold\">       Param # </span>┃\n",
              "┡━━━━━━━━━━━━━━━━━━━━━━━━━━━━━━━━━╇━━━━━━━━━━━━━━━━━━━━━━━━╇━━━━━━━━━━━━━━━┩\n",
              "│ X_train (<span style=\"color: #0087ff; text-decoration-color: #0087ff\">InputLayer</span>)            │ (<span style=\"color: #00d7ff; text-decoration-color: #00d7ff\">None</span>, <span style=\"color: #00af00; text-decoration-color: #00af00\">300</span>)            │             <span style=\"color: #00af00; text-decoration-color: #00af00\">0</span> │\n",
              "├─────────────────────────────────┼────────────────────────┼───────────────┤\n",
              "│ dense (<span style=\"color: #0087ff; text-decoration-color: #0087ff\">Dense</span>)                   │ (<span style=\"color: #00d7ff; text-decoration-color: #00d7ff\">None</span>, <span style=\"color: #00af00; text-decoration-color: #00af00\">128</span>)            │        <span style=\"color: #00af00; text-decoration-color: #00af00\">38,528</span> │\n",
              "├─────────────────────────────────┼────────────────────────┼───────────────┤\n",
              "│ dense_1 (<span style=\"color: #0087ff; text-decoration-color: #0087ff\">Dense</span>)                 │ (<span style=\"color: #00d7ff; text-decoration-color: #00d7ff\">None</span>, <span style=\"color: #00af00; text-decoration-color: #00af00\">64</span>)             │         <span style=\"color: #00af00; text-decoration-color: #00af00\">8,256</span> │\n",
              "├─────────────────────────────────┼────────────────────────┼───────────────┤\n",
              "│ dense_2 (<span style=\"color: #0087ff; text-decoration-color: #0087ff\">Dense</span>)                 │ (<span style=\"color: #00d7ff; text-decoration-color: #00d7ff\">None</span>, <span style=\"color: #00af00; text-decoration-color: #00af00\">32</span>)             │         <span style=\"color: #00af00; text-decoration-color: #00af00\">2,080</span> │\n",
              "├─────────────────────────────────┼────────────────────────┼───────────────┤\n",
              "│ dense_3 (<span style=\"color: #0087ff; text-decoration-color: #0087ff\">Dense</span>)                 │ (<span style=\"color: #00d7ff; text-decoration-color: #00d7ff\">None</span>, <span style=\"color: #00af00; text-decoration-color: #00af00\">1</span>)              │            <span style=\"color: #00af00; text-decoration-color: #00af00\">33</span> │\n",
              "└─────────────────────────────────┴────────────────────────┴───────────────┘\n",
              "</pre>\n"
            ]
          },
          "metadata": {}
        },
        {
          "output_type": "display_data",
          "data": {
            "text/plain": [
              "\u001b[1m Total params: \u001b[0m\u001b[38;5;34m48,897\u001b[0m (191.00 KB)\n"
            ],
            "text/html": [
              "<pre style=\"white-space:pre;overflow-x:auto;line-height:normal;font-family:Menlo,'DejaVu Sans Mono',consolas,'Courier New',monospace\"><span style=\"font-weight: bold\"> Total params: </span><span style=\"color: #00af00; text-decoration-color: #00af00\">48,897</span> (191.00 KB)\n",
              "</pre>\n"
            ]
          },
          "metadata": {}
        },
        {
          "output_type": "display_data",
          "data": {
            "text/plain": [
              "\u001b[1m Trainable params: \u001b[0m\u001b[38;5;34m48,897\u001b[0m (191.00 KB)\n"
            ],
            "text/html": [
              "<pre style=\"white-space:pre;overflow-x:auto;line-height:normal;font-family:Menlo,'DejaVu Sans Mono',consolas,'Courier New',monospace\"><span style=\"font-weight: bold\"> Trainable params: </span><span style=\"color: #00af00; text-decoration-color: #00af00\">48,897</span> (191.00 KB)\n",
              "</pre>\n"
            ]
          },
          "metadata": {}
        },
        {
          "output_type": "display_data",
          "data": {
            "text/plain": [
              "\u001b[1m Non-trainable params: \u001b[0m\u001b[38;5;34m0\u001b[0m (0.00 B)\n"
            ],
            "text/html": [
              "<pre style=\"white-space:pre;overflow-x:auto;line-height:normal;font-family:Menlo,'DejaVu Sans Mono',consolas,'Courier New',monospace\"><span style=\"font-weight: bold\"> Non-trainable params: </span><span style=\"color: #00af00; text-decoration-color: #00af00\">0</span> (0.00 B)\n",
              "</pre>\n"
            ]
          },
          "metadata": {}
        }
      ]
    },
    {
      "cell_type": "code",
      "source": [
        "# Compile & Run\n",
        "model=MLP_Data()\n",
        "model.compile(loss='mse', optimizer=tf.keras.optimizers.Adam(1e-3), metrics=['mse'])\n",
        "\n",
        "earlystop = EarlyStopping(monitor='val_loss', min_delta=0, patience=20,verbose=1, mode='auto')\n",
        "checkpoint = ModelCheckpoint('/content/drive/My Drive/Colab Notebooks/p5270/Automatic_Physics_Based_Features_Extraction/Check.keras', monitor='val_loss', verbose=1, save_best_only=True, mode='min')\n",
        "callbacks_list = [earlystop, checkpoint]\n",
        "history = model.fit([X_train],[Y_train_SS], epochs=100, batch_size=32,callbacks=callbacks_list,\n",
        "                     validation_data=([X_val],[Y_val_SS]), verbose=1)\n",
        "plt.figure()\n",
        "plt.plot(history.history['loss'], label='train')\n",
        "plt.plot(history.history['val_loss'], label='val')\n",
        "plt.legend()\n",
        "plt.show()"
      ],
      "metadata": {
        "id": "0W_VB69ZjZzv",
        "colab": {
          "base_uri": "https://localhost:8080/",
          "height": 1000
        },
        "outputId": "a65ae25e-1f60-4c49-a067-700006780ac6"
      },
      "execution_count": null,
      "outputs": [
        {
          "output_type": "stream",
          "name": "stdout",
          "text": [
            "Epoch 1/100\n",
            "\u001b[1m2168/2181\u001b[0m \u001b[32m━━━━━━━━━━━━━━━━━━━\u001b[0m\u001b[37m━\u001b[0m \u001b[1m0s\u001b[0m 3ms/step - loss: 1.9449 - mse: 1.9449\n",
            "Epoch 1: val_loss improved from inf to 0.09597, saving model to /content/drive/My Drive/Colab Notebooks/p5270/Automatic_Physics_Based_Features_Extraction/Check.keras\n",
            "\u001b[1m2181/2181\u001b[0m \u001b[32m━━━━━━━━━━━━━━━━━━━━\u001b[0m\u001b[37m\u001b[0m \u001b[1m9s\u001b[0m 4ms/step - loss: 1.9358 - mse: 1.9358 - val_loss: 0.0960 - val_mse: 0.0960\n",
            "Epoch 2/100\n",
            "\u001b[1m2166/2181\u001b[0m \u001b[32m━━━━━━━━━━━━━━━━━━━\u001b[0m\u001b[37m━\u001b[0m \u001b[1m0s\u001b[0m 2ms/step - loss: 0.0467 - mse: 0.0467\n",
            "Epoch 2: val_loss improved from 0.09597 to 0.00168, saving model to /content/drive/My Drive/Colab Notebooks/p5270/Automatic_Physics_Based_Features_Extraction/Check.keras\n",
            "\u001b[1m2181/2181\u001b[0m \u001b[32m━━━━━━━━━━━━━━━━━━━━\u001b[0m\u001b[37m\u001b[0m \u001b[1m8s\u001b[0m 3ms/step - loss: 0.0465 - mse: 0.0465 - val_loss: 0.0017 - val_mse: 0.0017\n",
            "Epoch 3/100\n",
            "\u001b[1m2173/2181\u001b[0m \u001b[32m━━━━━━━━━━━━━━━━━━━\u001b[0m\u001b[37m━\u001b[0m \u001b[1m0s\u001b[0m 3ms/step - loss: 0.0035 - mse: 0.0035\n",
            "Epoch 3: val_loss improved from 0.00168 to 0.00161, saving model to /content/drive/My Drive/Colab Notebooks/p5270/Automatic_Physics_Based_Features_Extraction/Check.keras\n",
            "\u001b[1m2181/2181\u001b[0m \u001b[32m━━━━━━━━━━━━━━━━━━━━\u001b[0m\u001b[37m\u001b[0m \u001b[1m12s\u001b[0m 3ms/step - loss: 0.0035 - mse: 0.0035 - val_loss: 0.0016 - val_mse: 0.0016\n",
            "Epoch 4/100\n",
            "\u001b[1m2179/2181\u001b[0m \u001b[32m━━━━━━━━━━━━━━━━━━━\u001b[0m\u001b[37m━\u001b[0m \u001b[1m0s\u001b[0m 2ms/step - loss: 0.0033 - mse: 0.0033\n",
            "Epoch 4: val_loss did not improve from 0.00161\n",
            "\u001b[1m2181/2181\u001b[0m \u001b[32m━━━━━━━━━━━━━━━━━━━━\u001b[0m\u001b[37m\u001b[0m \u001b[1m6s\u001b[0m 3ms/step - loss: 0.0033 - mse: 0.0033 - val_loss: 0.0019 - val_mse: 0.0019\n",
            "Epoch 5/100\n",
            "\u001b[1m2178/2181\u001b[0m \u001b[32m━━━━━━━━━━━━━━━━━━━\u001b[0m\u001b[37m━\u001b[0m \u001b[1m0s\u001b[0m 3ms/step - loss: 0.0031 - mse: 0.0031\n",
            "Epoch 5: val_loss did not improve from 0.00161\n",
            "\u001b[1m2181/2181\u001b[0m \u001b[32m━━━━━━━━━━━━━━━━━━━━\u001b[0m\u001b[37m\u001b[0m \u001b[1m7s\u001b[0m 3ms/step - loss: 0.0031 - mse: 0.0031 - val_loss: 0.0026 - val_mse: 0.0026\n",
            "Epoch 6/100\n",
            "\u001b[1m2165/2181\u001b[0m \u001b[32m━━━━━━━━━━━━━━━━━━━\u001b[0m\u001b[37m━\u001b[0m \u001b[1m0s\u001b[0m 2ms/step - loss: 0.0030 - mse: 0.0030\n",
            "Epoch 6: val_loss did not improve from 0.00161\n",
            "\u001b[1m2181/2181\u001b[0m \u001b[32m━━━━━━━━━━━━━━━━━━━━\u001b[0m\u001b[37m\u001b[0m \u001b[1m9s\u001b[0m 3ms/step - loss: 0.0030 - mse: 0.0030 - val_loss: 0.0033 - val_mse: 0.0033\n",
            "Epoch 7/100\n",
            "\u001b[1m2165/2181\u001b[0m \u001b[32m━━━━━━━━━━━━━━━━━━━\u001b[0m\u001b[37m━\u001b[0m \u001b[1m0s\u001b[0m 3ms/step - loss: 0.0029 - mse: 0.0029\n",
            "Epoch 7: val_loss did not improve from 0.00161\n",
            "\u001b[1m2181/2181\u001b[0m \u001b[32m━━━━━━━━━━━━━━━━━━━━\u001b[0m\u001b[37m\u001b[0m \u001b[1m7s\u001b[0m 3ms/step - loss: 0.0029 - mse: 0.0029 - val_loss: 0.0053 - val_mse: 0.0053\n",
            "Epoch 8/100\n",
            "\u001b[1m2175/2181\u001b[0m \u001b[32m━━━━━━━━━━━━━━━━━━━\u001b[0m\u001b[37m━\u001b[0m \u001b[1m0s\u001b[0m 2ms/step - loss: 0.0027 - mse: 0.0027\n",
            "Epoch 8: val_loss did not improve from 0.00161\n",
            "\u001b[1m2181/2181\u001b[0m \u001b[32m━━━━━━━━━━━━━━━━━━━━\u001b[0m\u001b[37m\u001b[0m \u001b[1m6s\u001b[0m 3ms/step - loss: 0.0027 - mse: 0.0027 - val_loss: 0.0057 - val_mse: 0.0057\n",
            "Epoch 9/100\n",
            "\u001b[1m2178/2181\u001b[0m \u001b[32m━━━━━━━━━━━━━━━━━━━\u001b[0m\u001b[37m━\u001b[0m \u001b[1m0s\u001b[0m 4ms/step - loss: 0.0026 - mse: 0.0026\n",
            "Epoch 9: val_loss did not improve from 0.00161\n",
            "\u001b[1m2181/2181\u001b[0m \u001b[32m━━━━━━━━━━━━━━━━━━━━\u001b[0m\u001b[37m\u001b[0m \u001b[1m9s\u001b[0m 4ms/step - loss: 0.0026 - mse: 0.0026 - val_loss: 0.0025 - val_mse: 0.0025\n",
            "Epoch 10/100\n",
            "\u001b[1m2178/2181\u001b[0m \u001b[32m━━━━━━━━━━━━━━━━━━━\u001b[0m\u001b[37m━\u001b[0m \u001b[1m0s\u001b[0m 3ms/step - loss: 0.0023 - mse: 0.0023\n",
            "Epoch 10: val_loss improved from 0.00161 to 0.00097, saving model to /content/drive/My Drive/Colab Notebooks/p5270/Automatic_Physics_Based_Features_Extraction/Check.keras\n",
            "\u001b[1m2181/2181\u001b[0m \u001b[32m━━━━━━━━━━━━━━━━━━━━\u001b[0m\u001b[37m\u001b[0m \u001b[1m8s\u001b[0m 3ms/step - loss: 0.0023 - mse: 0.0023 - val_loss: 9.6821e-04 - val_mse: 9.6821e-04\n",
            "Epoch 11/100\n",
            "\u001b[1m2166/2181\u001b[0m \u001b[32m━━━━━━━━━━━━━━━━━━━\u001b[0m\u001b[37m━\u001b[0m \u001b[1m0s\u001b[0m 2ms/step - loss: 0.0023 - mse: 0.0023\n",
            "Epoch 11: val_loss did not improve from 0.00097\n",
            "\u001b[1m2181/2181\u001b[0m \u001b[32m━━━━━━━━━━━━━━━━━━━━\u001b[0m\u001b[37m\u001b[0m \u001b[1m6s\u001b[0m 3ms/step - loss: 0.0023 - mse: 0.0023 - val_loss: 0.0010 - val_mse: 0.0010\n",
            "Epoch 12/100\n",
            "\u001b[1m2175/2181\u001b[0m \u001b[32m━━━━━━━━━━━━━━━━━━━\u001b[0m\u001b[37m━\u001b[0m \u001b[1m0s\u001b[0m 3ms/step - loss: 0.0021 - mse: 0.0021\n",
            "Epoch 12: val_loss did not improve from 0.00097\n",
            "\u001b[1m2181/2181\u001b[0m \u001b[32m━━━━━━━━━━━━━━━━━━━━\u001b[0m\u001b[37m\u001b[0m \u001b[1m12s\u001b[0m 3ms/step - loss: 0.0021 - mse: 0.0021 - val_loss: 0.0011 - val_mse: 0.0011\n",
            "Epoch 13/100\n",
            "\u001b[1m2178/2181\u001b[0m \u001b[32m━━━━━━━━━━━━━━━━━━━\u001b[0m\u001b[37m━\u001b[0m \u001b[1m0s\u001b[0m 3ms/step - loss: 0.0020 - mse: 0.0020\n",
            "Epoch 13: val_loss did not improve from 0.00097\n",
            "\u001b[1m2181/2181\u001b[0m \u001b[32m━━━━━━━━━━━━━━━━━━━━\u001b[0m\u001b[37m\u001b[0m \u001b[1m9s\u001b[0m 3ms/step - loss: 0.0020 - mse: 0.0020 - val_loss: 0.0032 - val_mse: 0.0032\n",
            "Epoch 14/100\n",
            "\u001b[1m2165/2181\u001b[0m \u001b[32m━━━━━━━━━━━━━━━━━━━\u001b[0m\u001b[37m━\u001b[0m \u001b[1m0s\u001b[0m 3ms/step - loss: 0.0019 - mse: 0.0019\n",
            "Epoch 14: val_loss did not improve from 0.00097\n",
            "\u001b[1m2181/2181\u001b[0m \u001b[32m━━━━━━━━━━━━━━━━━━━━\u001b[0m\u001b[37m\u001b[0m \u001b[1m6s\u001b[0m 3ms/step - loss: 0.0019 - mse: 0.0019 - val_loss: 0.0023 - val_mse: 0.0023\n",
            "Epoch 15/100\n",
            "\u001b[1m2163/2181\u001b[0m \u001b[32m━━━━━━━━━━━━━━━━━━━\u001b[0m\u001b[37m━\u001b[0m \u001b[1m0s\u001b[0m 3ms/step - loss: 0.0018 - mse: 0.0018\n",
            "Epoch 15: val_loss did not improve from 0.00097\n",
            "\u001b[1m2181/2181\u001b[0m \u001b[32m━━━━━━━━━━━━━━━━━━━━\u001b[0m\u001b[37m\u001b[0m \u001b[1m11s\u001b[0m 3ms/step - loss: 0.0018 - mse: 0.0018 - val_loss: 0.0012 - val_mse: 0.0012\n",
            "Epoch 16/100\n",
            "\u001b[1m2181/2181\u001b[0m \u001b[32m━━━━━━━━━━━━━━━━━━━━\u001b[0m\u001b[37m\u001b[0m \u001b[1m0s\u001b[0m 2ms/step - loss: 0.0018 - mse: 0.0018\n",
            "Epoch 16: val_loss improved from 0.00097 to 0.00078, saving model to /content/drive/My Drive/Colab Notebooks/p5270/Automatic_Physics_Based_Features_Extraction/Check.keras\n",
            "\u001b[1m2181/2181\u001b[0m \u001b[32m━━━━━━━━━━━━━━━━━━━━\u001b[0m\u001b[37m\u001b[0m \u001b[1m6s\u001b[0m 3ms/step - loss: 0.0018 - mse: 0.0018 - val_loss: 7.8435e-04 - val_mse: 7.8435e-04\n",
            "Epoch 17/100\n",
            "\u001b[1m2176/2181\u001b[0m \u001b[32m━━━━━━━━━━━━━━━━━━━\u001b[0m\u001b[37m━\u001b[0m \u001b[1m0s\u001b[0m 3ms/step - loss: 0.0017 - mse: 0.0017\n",
            "Epoch 17: val_loss did not improve from 0.00078\n",
            "\u001b[1m2181/2181\u001b[0m \u001b[32m━━━━━━━━━━━━━━━━━━━━\u001b[0m\u001b[37m\u001b[0m \u001b[1m7s\u001b[0m 3ms/step - loss: 0.0017 - mse: 0.0017 - val_loss: 8.5825e-04 - val_mse: 8.5825e-04\n",
            "Epoch 18/100\n",
            "\u001b[1m2160/2181\u001b[0m \u001b[32m━━━━━━━━━━━━━━━━━━━\u001b[0m\u001b[37m━\u001b[0m \u001b[1m0s\u001b[0m 2ms/step - loss: 0.0016 - mse: 0.0016\n",
            "Epoch 18: val_loss improved from 0.00078 to 0.00074, saving model to /content/drive/My Drive/Colab Notebooks/p5270/Automatic_Physics_Based_Features_Extraction/Check.keras\n",
            "\u001b[1m2181/2181\u001b[0m \u001b[32m━━━━━━━━━━━━━━━━━━━━\u001b[0m\u001b[37m\u001b[0m \u001b[1m9s\u001b[0m 3ms/step - loss: 0.0016 - mse: 0.0016 - val_loss: 7.3923e-04 - val_mse: 7.3923e-04\n",
            "Epoch 19/100\n",
            "\u001b[1m2166/2181\u001b[0m \u001b[32m━━━━━━━━━━━━━━━━━━━\u001b[0m\u001b[37m━\u001b[0m \u001b[1m0s\u001b[0m 2ms/step - loss: 0.0016 - mse: 0.0016\n",
            "Epoch 19: val_loss improved from 0.00074 to 0.00073, saving model to /content/drive/My Drive/Colab Notebooks/p5270/Automatic_Physics_Based_Features_Extraction/Check.keras\n",
            "\u001b[1m2181/2181\u001b[0m \u001b[32m━━━━━━━━━━━━━━━━━━━━\u001b[0m\u001b[37m\u001b[0m \u001b[1m10s\u001b[0m 3ms/step - loss: 0.0016 - mse: 0.0016 - val_loss: 7.2848e-04 - val_mse: 7.2848e-04\n",
            "Epoch 20/100\n",
            "\u001b[1m2161/2181\u001b[0m \u001b[32m━━━━━━━━━━━━━━━━━━━\u001b[0m\u001b[37m━\u001b[0m \u001b[1m0s\u001b[0m 3ms/step - loss: 0.0015 - mse: 0.0015\n",
            "Epoch 20: val_loss improved from 0.00073 to 0.00069, saving model to /content/drive/My Drive/Colab Notebooks/p5270/Automatic_Physics_Based_Features_Extraction/Check.keras\n",
            "\u001b[1m2181/2181\u001b[0m \u001b[32m━━━━━━━━━━━━━━━━━━━━\u001b[0m\u001b[37m\u001b[0m \u001b[1m7s\u001b[0m 3ms/step - loss: 0.0015 - mse: 0.0015 - val_loss: 6.8848e-04 - val_mse: 6.8848e-04\n",
            "Epoch 21/100\n",
            "\u001b[1m2172/2181\u001b[0m \u001b[32m━━━━━━━━━━━━━━━━━━━\u001b[0m\u001b[37m━\u001b[0m \u001b[1m0s\u001b[0m 2ms/step - loss: 0.0015 - mse: 0.0015\n",
            "Epoch 21: val_loss improved from 0.00069 to 0.00068, saving model to /content/drive/My Drive/Colab Notebooks/p5270/Automatic_Physics_Based_Features_Extraction/Check.keras\n",
            "\u001b[1m2181/2181\u001b[0m \u001b[32m━━━━━━━━━━━━━━━━━━━━\u001b[0m\u001b[37m\u001b[0m \u001b[1m9s\u001b[0m 3ms/step - loss: 0.0015 - mse: 0.0015 - val_loss: 6.8092e-04 - val_mse: 6.8092e-04\n",
            "Epoch 22/100\n",
            "\u001b[1m2167/2181\u001b[0m \u001b[32m━━━━━━━━━━━━━━━━━━━\u001b[0m\u001b[37m━\u001b[0m \u001b[1m0s\u001b[0m 2ms/step - loss: 0.0015 - mse: 0.0015\n",
            "Epoch 22: val_loss improved from 0.00068 to 0.00068, saving model to /content/drive/My Drive/Colab Notebooks/p5270/Automatic_Physics_Based_Features_Extraction/Check.keras\n",
            "\u001b[1m2181/2181\u001b[0m \u001b[32m━━━━━━━━━━━━━━━━━━━━\u001b[0m\u001b[37m\u001b[0m \u001b[1m10s\u001b[0m 3ms/step - loss: 0.0015 - mse: 0.0015 - val_loss: 6.7717e-04 - val_mse: 6.7717e-04\n",
            "Epoch 23/100\n",
            "\u001b[1m2177/2181\u001b[0m \u001b[32m━━━━━━━━━━━━━━━━━━━\u001b[0m\u001b[37m━\u001b[0m \u001b[1m0s\u001b[0m 3ms/step - loss: 0.0014 - mse: 0.0014\n",
            "Epoch 23: val_loss improved from 0.00068 to 0.00067, saving model to /content/drive/My Drive/Colab Notebooks/p5270/Automatic_Physics_Based_Features_Extraction/Check.keras\n",
            "\u001b[1m2181/2181\u001b[0m \u001b[32m━━━━━━━━━━━━━━━━━━━━\u001b[0m\u001b[37m\u001b[0m \u001b[1m11s\u001b[0m 3ms/step - loss: 0.0014 - mse: 0.0014 - val_loss: 6.7080e-04 - val_mse: 6.7080e-04\n",
            "Epoch 24/100\n",
            "\u001b[1m2177/2181\u001b[0m \u001b[32m━━━━━━━━━━━━━━━━━━━\u001b[0m\u001b[37m━\u001b[0m \u001b[1m0s\u001b[0m 3ms/step - loss: 0.0014 - mse: 0.0014\n",
            "Epoch 24: val_loss did not improve from 0.00067\n",
            "\u001b[1m2181/2181\u001b[0m \u001b[32m━━━━━━━━━━━━━━━━━━━━\u001b[0m\u001b[37m\u001b[0m \u001b[1m7s\u001b[0m 3ms/step - loss: 0.0014 - mse: 0.0014 - val_loss: 7.0300e-04 - val_mse: 7.0300e-04\n",
            "Epoch 25/100\n",
            "\u001b[1m2162/2181\u001b[0m \u001b[32m━━━━━━━━━━━━━━━━━━━\u001b[0m\u001b[37m━\u001b[0m \u001b[1m0s\u001b[0m 3ms/step - loss: 0.0014 - mse: 0.0014\n",
            "Epoch 25: val_loss did not improve from 0.00067\n",
            "\u001b[1m2181/2181\u001b[0m \u001b[32m━━━━━━━━━━━━━━━━━━━━\u001b[0m\u001b[37m\u001b[0m \u001b[1m6s\u001b[0m 3ms/step - loss: 0.0014 - mse: 0.0014 - val_loss: 7.3937e-04 - val_mse: 7.3937e-04\n",
            "Epoch 26/100\n",
            "\u001b[1m2173/2181\u001b[0m \u001b[32m━━━━━━━━━━━━━━━━━━━\u001b[0m\u001b[37m━\u001b[0m \u001b[1m0s\u001b[0m 2ms/step - loss: 0.0014 - mse: 0.0014\n",
            "Epoch 26: val_loss did not improve from 0.00067\n",
            "\u001b[1m2181/2181\u001b[0m \u001b[32m━━━━━━━━━━━━━━━━━━━━\u001b[0m\u001b[37m\u001b[0m \u001b[1m6s\u001b[0m 3ms/step - loss: 0.0014 - mse: 0.0014 - val_loss: 7.7405e-04 - val_mse: 7.7405e-04\n",
            "Epoch 27/100\n",
            "\u001b[1m2177/2181\u001b[0m \u001b[32m━━━━━━━━━━━━━━━━━━━\u001b[0m\u001b[37m━\u001b[0m \u001b[1m0s\u001b[0m 2ms/step - loss: 0.0014 - mse: 0.0014\n",
            "Epoch 27: val_loss did not improve from 0.00067\n",
            "\u001b[1m2181/2181\u001b[0m \u001b[32m━━━━━━━━━━━━━━━━━━━━\u001b[0m\u001b[37m\u001b[0m \u001b[1m10s\u001b[0m 3ms/step - loss: 0.0014 - mse: 0.0014 - val_loss: 8.2561e-04 - val_mse: 8.2561e-04\n",
            "Epoch 28/100\n",
            "\u001b[1m2165/2181\u001b[0m \u001b[32m━━━━━━━━━━━━━━━━━━━\u001b[0m\u001b[37m━\u001b[0m \u001b[1m0s\u001b[0m 3ms/step - loss: 0.0014 - mse: 0.0014\n",
            "Epoch 28: val_loss did not improve from 0.00067\n",
            "\u001b[1m2181/2181\u001b[0m \u001b[32m━━━━━━━━━━━━━━━━━━━━\u001b[0m\u001b[37m\u001b[0m \u001b[1m8s\u001b[0m 3ms/step - loss: 0.0014 - mse: 0.0014 - val_loss: 9.0814e-04 - val_mse: 9.0814e-04\n",
            "Epoch 29/100\n",
            "\u001b[1m2169/2181\u001b[0m \u001b[32m━━━━━━━━━━━━━━━━━━━\u001b[0m\u001b[37m━\u001b[0m \u001b[1m0s\u001b[0m 2ms/step - loss: 0.0014 - mse: 0.0014\n",
            "Epoch 29: val_loss did not improve from 0.00067\n",
            "\u001b[1m2181/2181\u001b[0m \u001b[32m━━━━━━━━━━━━━━━━━━━━\u001b[0m\u001b[37m\u001b[0m \u001b[1m9s\u001b[0m 3ms/step - loss: 0.0014 - mse: 0.0014 - val_loss: 9.2267e-04 - val_mse: 9.2267e-04\n",
            "Epoch 30/100\n",
            "\u001b[1m2172/2181\u001b[0m \u001b[32m━━━━━━━━━━━━━━━━━━━\u001b[0m\u001b[37m━\u001b[0m \u001b[1m0s\u001b[0m 2ms/step - loss: 0.0014 - mse: 0.0014\n",
            "Epoch 30: val_loss did not improve from 0.00067\n",
            "\u001b[1m2181/2181\u001b[0m \u001b[32m━━━━━━━━━━━━━━━━━━━━\u001b[0m\u001b[37m\u001b[0m \u001b[1m10s\u001b[0m 3ms/step - loss: 0.0014 - mse: 0.0014 - val_loss: 9.9361e-04 - val_mse: 9.9361e-04\n",
            "Epoch 31/100\n",
            "\u001b[1m2166/2181\u001b[0m \u001b[32m━━━━━━━━━━━━━━━━━━━\u001b[0m\u001b[37m━\u001b[0m \u001b[1m0s\u001b[0m 2ms/step - loss: 0.0014 - mse: 0.0014\n",
            "Epoch 31: val_loss did not improve from 0.00067\n",
            "\u001b[1m2181/2181\u001b[0m \u001b[32m━━━━━━━━━━━━━━━━━━━━\u001b[0m\u001b[37m\u001b[0m \u001b[1m10s\u001b[0m 3ms/step - loss: 0.0014 - mse: 0.0014 - val_loss: 0.0011 - val_mse: 0.0011\n",
            "Epoch 32/100\n",
            "\u001b[1m2175/2181\u001b[0m \u001b[32m━━━━━━━━━━━━━━━━━━━\u001b[0m\u001b[37m━\u001b[0m \u001b[1m0s\u001b[0m 3ms/step - loss: 0.0013 - mse: 0.0013\n",
            "Epoch 32: val_loss did not improve from 0.00067\n",
            "\u001b[1m2181/2181\u001b[0m \u001b[32m━━━━━━━━━━━━━━━━━━━━\u001b[0m\u001b[37m\u001b[0m \u001b[1m7s\u001b[0m 3ms/step - loss: 0.0013 - mse: 0.0013 - val_loss: 0.0012 - val_mse: 0.0012\n",
            "Epoch 33/100\n",
            "\u001b[1m2170/2181\u001b[0m \u001b[32m━━━━━━━━━━━━━━━━━━━\u001b[0m\u001b[37m━\u001b[0m \u001b[1m0s\u001b[0m 2ms/step - loss: 0.0013 - mse: 0.0013\n",
            "Epoch 33: val_loss did not improve from 0.00067\n",
            "\u001b[1m2181/2181\u001b[0m \u001b[32m━━━━━━━━━━━━━━━━━━━━\u001b[0m\u001b[37m\u001b[0m \u001b[1m6s\u001b[0m 3ms/step - loss: 0.0013 - mse: 0.0013 - val_loss: 0.0011 - val_mse: 0.0011\n",
            "Epoch 34/100\n",
            "\u001b[1m2174/2181\u001b[0m \u001b[32m━━━━━━━━━━━━━━━━━━━\u001b[0m\u001b[37m━\u001b[0m \u001b[1m0s\u001b[0m 3ms/step - loss: 0.0013 - mse: 0.0013\n",
            "Epoch 34: val_loss did not improve from 0.00067\n",
            "\u001b[1m2181/2181\u001b[0m \u001b[32m━━━━━━━━━━━━━━━━━━━━\u001b[0m\u001b[37m\u001b[0m \u001b[1m7s\u001b[0m 3ms/step - loss: 0.0013 - mse: 0.0013 - val_loss: 0.0013 - val_mse: 0.0013\n",
            "Epoch 35/100\n",
            "\u001b[1m2161/2181\u001b[0m \u001b[32m━━━━━━━━━━━━━━━━━━━\u001b[0m\u001b[37m━\u001b[0m \u001b[1m0s\u001b[0m 3ms/step - loss: 0.0013 - mse: 0.0013\n",
            "Epoch 35: val_loss did not improve from 0.00067\n",
            "\u001b[1m2181/2181\u001b[0m \u001b[32m━━━━━━━━━━━━━━━━━━━━\u001b[0m\u001b[37m\u001b[0m \u001b[1m6s\u001b[0m 3ms/step - loss: 0.0013 - mse: 0.0013 - val_loss: 0.0014 - val_mse: 0.0014\n",
            "Epoch 36/100\n",
            "\u001b[1m2168/2181\u001b[0m \u001b[32m━━━━━━━━━━━━━━━━━━━\u001b[0m\u001b[37m━\u001b[0m \u001b[1m0s\u001b[0m 2ms/step - loss: 0.0013 - mse: 0.0013\n",
            "Epoch 36: val_loss did not improve from 0.00067\n",
            "\u001b[1m2181/2181\u001b[0m \u001b[32m━━━━━━━━━━━━━━━━━━━━\u001b[0m\u001b[37m\u001b[0m \u001b[1m6s\u001b[0m 3ms/step - loss: 0.0013 - mse: 0.0013 - val_loss: 0.0014 - val_mse: 0.0014\n",
            "Epoch 37/100\n",
            "\u001b[1m2170/2181\u001b[0m \u001b[32m━━━━━━━━━━━━━━━━━━━\u001b[0m\u001b[37m━\u001b[0m \u001b[1m0s\u001b[0m 2ms/step - loss: 0.0013 - mse: 0.0013\n",
            "Epoch 37: val_loss did not improve from 0.00067\n",
            "\u001b[1m2181/2181\u001b[0m \u001b[32m━━━━━━━━━━━━━━━━━━━━\u001b[0m\u001b[37m\u001b[0m \u001b[1m10s\u001b[0m 3ms/step - loss: 0.0013 - mse: 0.0013 - val_loss: 0.0014 - val_mse: 0.0014\n",
            "Epoch 38/100\n",
            "\u001b[1m2166/2181\u001b[0m \u001b[32m━━━━━━━━━━━━━━━━━━━\u001b[0m\u001b[37m━\u001b[0m \u001b[1m0s\u001b[0m 2ms/step - loss: 0.0013 - mse: 0.0013\n",
            "Epoch 38: val_loss did not improve from 0.00067\n",
            "\u001b[1m2181/2181\u001b[0m \u001b[32m━━━━━━━━━━━━━━━━━━━━\u001b[0m\u001b[37m\u001b[0m \u001b[1m11s\u001b[0m 3ms/step - loss: 0.0013 - mse: 0.0013 - val_loss: 0.0014 - val_mse: 0.0014\n",
            "Epoch 39/100\n",
            "\u001b[1m2171/2181\u001b[0m \u001b[32m━━━━━━━━━━━━━━━━━━━\u001b[0m\u001b[37m━\u001b[0m \u001b[1m0s\u001b[0m 3ms/step - loss: 0.0013 - mse: 0.0013\n",
            "Epoch 39: val_loss did not improve from 0.00067\n",
            "\u001b[1m2181/2181\u001b[0m \u001b[32m━━━━━━━━━━━━━━━━━━━━\u001b[0m\u001b[37m\u001b[0m \u001b[1m7s\u001b[0m 3ms/step - loss: 0.0013 - mse: 0.0013 - val_loss: 0.0013 - val_mse: 0.0013\n",
            "Epoch 40/100\n",
            "\u001b[1m2169/2181\u001b[0m \u001b[32m━━━━━━━━━━━━━━━━━━━\u001b[0m\u001b[37m━\u001b[0m \u001b[1m0s\u001b[0m 2ms/step - loss: 0.0013 - mse: 0.0013\n",
            "Epoch 40: val_loss did not improve from 0.00067\n",
            "\u001b[1m2181/2181\u001b[0m \u001b[32m━━━━━━━━━━━━━━━━━━━━\u001b[0m\u001b[37m\u001b[0m \u001b[1m9s\u001b[0m 3ms/step - loss: 0.0013 - mse: 0.0013 - val_loss: 0.0014 - val_mse: 0.0014\n",
            "Epoch 41/100\n",
            "\u001b[1m2175/2181\u001b[0m \u001b[32m━━━━━━━━━━━━━━━━━━━\u001b[0m\u001b[37m━\u001b[0m \u001b[1m0s\u001b[0m 3ms/step - loss: 0.0013 - mse: 0.0013\n",
            "Epoch 41: val_loss did not improve from 0.00067\n",
            "\u001b[1m2181/2181\u001b[0m \u001b[32m━━━━━━━━━━━━━━━━━━━━\u001b[0m\u001b[37m\u001b[0m \u001b[1m7s\u001b[0m 3ms/step - loss: 0.0013 - mse: 0.0013 - val_loss: 0.0014 - val_mse: 0.0014\n",
            "Epoch 42/100\n",
            "\u001b[1m2178/2181\u001b[0m \u001b[32m━━━━━━━━━━━━━━━━━━━\u001b[0m\u001b[37m━\u001b[0m \u001b[1m0s\u001b[0m 2ms/step - loss: 0.0013 - mse: 0.0013\n",
            "Epoch 42: val_loss did not improve from 0.00067\n",
            "\u001b[1m2181/2181\u001b[0m \u001b[32m━━━━━━━━━━━━━━━━━━━━\u001b[0m\u001b[37m\u001b[0m \u001b[1m6s\u001b[0m 3ms/step - loss: 0.0013 - mse: 0.0013 - val_loss: 0.0013 - val_mse: 0.0013\n",
            "Epoch 43/100\n",
            "\u001b[1m2164/2181\u001b[0m \u001b[32m━━━━━━━━━━━━━━━━━━━\u001b[0m\u001b[37m━\u001b[0m \u001b[1m0s\u001b[0m 2ms/step - loss: 0.0013 - mse: 0.0013\n",
            "Epoch 43: val_loss did not improve from 0.00067\n",
            "\u001b[1m2181/2181\u001b[0m \u001b[32m━━━━━━━━━━━━━━━━━━━━\u001b[0m\u001b[37m\u001b[0m \u001b[1m10s\u001b[0m 3ms/step - loss: 0.0013 - mse: 0.0013 - val_loss: 0.0015 - val_mse: 0.0015\n",
            "Epoch 43: early stopping\n"
          ]
        },
        {
          "output_type": "display_data",
          "data": {
            "text/plain": [
              "<Figure size 640x480 with 1 Axes>"
            ],
            "image/png": "[encoded data removed]"
          },
          "metadata": {}
        }
      ]
    },
    {
      "cell_type": "code",
      "source": [
        "# Model Performance: Training\n",
        "y_predtrain = model.predict([X_train],verbose=0)\n",
        "y_predtrain_SS = np.array(y_predtrain)\n",
        "\n",
        "train_r2_SS = r2_score(Y_train_SS, y_predtrain_SS)\n",
        "train_rmse_SS = np.sqrt(mean_squared_error(Y_train_SS, y_predtrain_SS))\n",
        "\n",
        "  # Model Performance: Validation\n",
        "y_predval = model.predict([X_val],verbose=0)\n",
        "y_predval_SS = np.array(y_predval)\n",
        "\n",
        "val_r2_SS = r2_score(Y_val_SS, y_predval_SS)\n",
        "val_rmse_SS = np.sqrt(mean_squared_error(Y_val_SS, y_predval_SS))\n",
        "\n",
        "  # Model Performance: Testing\n",
        "y_predtest = model.predict([x_test],verbose=0)\n",
        "y_predtest_SS = np.array(y_predtest)\n",
        "\n",
        "test_r2_SS = r2_score(y_test_SS, y_predtest_SS)\n",
        "test_rmse_SS = np.sqrt(mean_squared_error(y_test_SS, y_predtest_SS))\n",
        "\n",
        "  # Print R2 Results\n",
        "print(\"R2 scores: Train (SS) - %0.5f\" %(train_r2_SS))\n",
        "print(\"R2 scores: Validation (SS) - %0.5f\" %(val_r2_SS))\n",
        "print(\"R2 scores: Testing (SS) - %0.5f\" %(test_r2_SS))\n",
        "\n",
        "  # Print RSME Results\n",
        "print(\"RMSE scores: Train (SS) - %0.5f\" %(train_rmse_SS))\n",
        "print(\"RMSE scores: Validation (SS) - %0.5f\" %(val_rmse_SS))\n",
        "print(\"RMSE scores: Testing (SS) - %0.5f\" %(test_rmse_SS))"
      ],
      "metadata": {
        "id": "Bhgsw8lGkNg0",
        "colab": {
          "base_uri": "https://localhost:8080/"
        },
        "outputId": "618a14b2-837d-458d-d091-999fe89953ec"
      },
      "execution_count": null,
      "outputs": [
        {
          "output_type": "stream",
          "name": "stdout",
          "text": [
            "R2 scores: Train (SS) - 0.91806\n",
            "R2 scores: Validation (SS) - 0.91269\n",
            "R2 scores: Testing (SS) - 0.88080\n",
            "RMSE scores: Train (SS) - 0.03521\n",
            "RMSE scores: Validation (SS) - 0.03843\n",
            "RMSE scores: Testing (SS) - 0.04921\n"
          ]
        }
      ]
    },
    {
      "cell_type": "code",
      "source": [
        "# # Extract Data\n",
        "# # SS\n",
        "# savetxt('Y_train_SS.csv', Y_train_SS, delimiter=',')\n",
        "# savetxt('Y_val_SS.csv', Y_val_SS, delimiter=',')\n",
        "# savetxt('y_test_SS.csv', y_test_SS, delimiter=',')\n",
        "# savetxt('y_predtrain_SS.csv', y_predtrain_SS, delimiter=',')\n",
        "# savetxt('y_predval_SS.csv', y_predval_SS, delimiter=',')\n",
        "# savetxt('y_predtest_SS.csv', y_predtest_SS, delimiter=',')"
      ],
      "metadata": {
        "id": "-uX7ngezkSfP"
      },
      "execution_count": null,
      "outputs": []
    },
    {
      "cell_type": "code",
      "source": [
        "# # Download Data\n",
        "# # SS\n",
        "# files.download('Y_train_SS.csv')\n",
        "# files.download('Y_val_SS.csv')\n",
        "# files.download('y_test_SS.csv')\n",
        "# files.download('y_predtrain_SS.csv')\n",
        "# files.download('y_predval_SS.csv')\n",
        "# files.download('y_predtest_SS.csv')"
      ],
      "metadata": {
        "id": "1pR5pvhgkUZL"
      },
      "execution_count": null,
      "outputs": []
    },
    {
      "cell_type": "code",
      "source": [],
      "metadata": {
        "id": "mJdd6oMInM1W"
      },
      "execution_count": null,
      "outputs": []
    }
  ]
}